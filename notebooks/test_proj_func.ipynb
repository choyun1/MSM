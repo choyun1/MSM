{
 "cells": [
  {
   "cell_type": "code",
   "execution_count": null,
   "metadata": {},
   "outputs": [],
   "source": [
    "import sys\n",
    "import numpy as np\n",
    "import pandas as pd\n",
    "import matplotlib.pyplot as plt\n",
    "\n",
    "sys.path.append(\"/home/acho/Sync/KiddLab/MSM/src\")\n",
    "from utils.stim_tools import *\n",
    "\n",
    "sys.path.append(\"/home/acho/Sync/Python/sigtools\")\n",
    "# from sigtools.representations import *\n",
    "# from sigtools.sounds import *\n",
    "# from sigtools.processing import *\n",
    "# from sigtools.spatialization import *"
   ]
  },
  {
   "cell_type": "markdown",
   "metadata": {},
   "source": [
    "# Make practice blocks\n",
    "### 07/26/21"
   ]
  },
  {
   "cell_type": "code",
   "execution_count": null,
   "metadata": {},
   "outputs": [],
   "source": [
    "stim_df = pd.read_csv(STIM_DIR/\"stimulus_database.csv\")\n",
    "practice_task_types = [\"BUG-motion_detection\"]\n",
    "practice_targ_amps = [30.]\n",
    "\n",
    "n_practice_tasks = len(practice_tasks_types)\n",
    "n_practice_amps = len(practice_targ_amps)\n",
    "\n",
    "practice_threshold = 2/3\n",
    "n_practice_trials_per_task_per_amp = 20\n",
    "n_practice_trials_per_block_per_amp = 20\n",
    "n_practice_blocks_per_task, n_practice_blocks, \\\n",
    "    n_practice_trials, n_practice_trials_per_block = \\\n",
    "    compute_n_trials(n_practice_tasks,\n",
    "                     n_practice_amps,\n",
    "                     n_practice_trials_per_task_per_amp,\n",
    "                     n_practice_trials_per_block_per_amp)\n",
    "\n",
    "\n",
    "practice_task_order = np.array([[0]])\n",
    "practice_flattened_task_order = [0]\n",
    "\n",
    "practice_corr = 1.\n",
    "while practice_corr < practice_threshold:\n",
    "    practice_stim_order = \\\n",
    "        generate_run_stim_order(stim_df,\n",
    "                                practice_task_types,\n",
    "                                practice_targ_amps,\n",
    "                                n_practice_trials_per_task_per_amp,\n",
    "                                n_practice_trials_per_block_per_amp,\n",
    "                                n_practice_blocks_per_task,\n",
    "                                practice_task_order)\n",
    "    block_tuple = practice_stim_order[0]\n",
    "    \n",
    "    # Iterate through trials\n",
    "    curr_block_corr = 0\n",
    "    for trial_num, (stim_num, stim, target_idx, target_pattern) \\\n",
    "            in enumerate(block_tuple):\n",
    "        # Display trial number\n",
    "        trial_txt = \"Practice block\\nTrial {:d} of {:d}\".format(\n",
    "            trial_num + 1, n_practice_trials_per_block)\n",
    "        helper_text.set(text=trial_txt, pos=(0, 0.75))\n",
    "        helper_text.draw()\n",
    "        win.flip()\n",
    "\n",
    "        # Play stimulus\n",
    "        core.wait(0.25)\n",
    "        stim.play(blocking=True)\n",
    "\n",
    "        # Wait for subject response and display feedback\n",
    "        _, correct = \\\n",
    "            do_detection_task(win, mouse, push_button, helper_text,\n",
    "                              afc_interface, target_idx)\n",
    "        curr_block_corr += correct\n",
    "    practice_corr = curr_block_corr/len(block_tuple)\n",
    "    \n",
    "    # End of block screen\n",
    "    end_block_str = \\\n",
    "        \"End of practice block\\n\\n\\n\" \\\n",
    "        \"Score was {:.1f}\\%\".format(100*practice_corr)\n",
    "    helper_text.set(text=end_block_str, pos=(0, 0.1))\n",
    "    helper_text.draw()\n",
    "    push_button.set(text=\"CONTINUE\")\n",
    "    push_button.draw()\n",
    "    win.flip()\n",
    "    wait_for_push_button(win, mouse, push_button)\n"
   ]
  },
  {
   "cell_type": "markdown",
   "metadata": {},
   "source": [
    "# New stimulus ordering function\n",
    "### 07/15/21"
   ]
  },
  {
   "cell_type": "code",
   "execution_count": null,
   "metadata": {},
   "outputs": [],
   "source": [
    "def compute_n_trials(n_tasks, n_amps, n_trials_per_task_per_amp, n_trials_per_block_per_amp):\n",
    "    if n_trials_per_task_per_amp%n_trials_per_block_per_amp != 0:\n",
    "        raise ValueError(\"invalid n_trials_per_block_per_amp\")\n",
    "    else:\n",
    "        n_blocks_per_task = int(n_trials_per_task_per_amp/n_trials_per_block_per_amp)\n",
    "    n_blocks = n_blocks_per_task*n_tasks\n",
    "    n_trials = n_trials_per_task_per_amp*n_amps*n_tasks\n",
    "    n_trials_per_block = int(n_trials/n_blocks)\n",
    "    return n_blocks_per_task, n_blocks, n_trials, n_trials_per_block\n",
    "\n",
    "\n",
    "def generate_task_order(n_tasks, n_blocks_per_task, balanced=True):\n",
    "    from collections import deque\n",
    "    from numpy.matlib import repmat\n",
    "\n",
    "    latin_sq = generate_latin_square(n_tasks, balanced=balanced)\n",
    "    n_repetition_per_task = len(latin_sq)\n",
    "    if n_blocks_per_task%n_repetition_per_task != 0:\n",
    "        raise ValueError(\"invalid number of trials - does not fit with balanced Latin square design\")\n",
    "    else:\n",
    "        n_repetitions = int(n_blocks_per_task/n_repetition_per_task)\n",
    "    deque_latin_sq = deque(latin_sq)\n",
    "    deque_latin_sq.rotate(np.random.randint(n_repetition_per_task))\n",
    "    rotated_latin_sq = np.array(deque_latin_sq)\n",
    "    repeated_latin_sq = repmat(rotated_latin_sq, n_repetitions, 1)\n",
    "    return repeated_latin_sq\n",
    "\n",
    "\n",
    "def generate_run_stim_order(stim_df,\n",
    "                            task_types,\n",
    "                            targ_amps,\n",
    "                            n_trials_per_task_per_amp,\n",
    "                            n_trials_per_block_per_amp,\n",
    "                            n_blocks_per_task,\n",
    "                            repeated_latin_sq):\n",
    "    from random import shuffle\n",
    "    def chunks(lst, n): return [lst[i:i + n] for i in range(0, len(lst), n)]\n",
    "\n",
    "    # Draw the stim numbers and organize into task types and target amplitudes\n",
    "    stim_num_dict1 = {}\n",
    "    for task in task_types:\n",
    "        stim_type, _ = task.split(\"-\")\n",
    "        for amp in targ_amps:\n",
    "            curr_stim_nums = \\\n",
    "                stim_df[(stim_df[\"is_target\"]) &\n",
    "                        (stim_df[\"stim_type\"] == stim_type) &\n",
    "                        (stim_df[\"amplitude\"] == amp)][\"stim_num\"].values\n",
    "            chosen_stim_nums = np.random.choice(curr_stim_nums, n_trials_per_task_per_amp, replace=False)\n",
    "            list_stim_nums = chosen_stim_nums.tolist()\n",
    "            chunked_stim_nums = chunks(list_stim_nums, n_trials_per_block_per_amp)\n",
    "            stim_num_dict1[(task, amp)] = chunked_stim_nums\n",
    "\n",
    "    # Organize stimulus numbers into task types and blocks\n",
    "    stim_num_dict2 = {}\n",
    "    for task in task_types:\n",
    "        accumulator2 = []\n",
    "        for block_num in range(n_blocks_per_task):\n",
    "            accumulator1 = []\n",
    "            for amp in targ_amps:\n",
    "                accumulator1 += stim_num_dict1[(task, amp)][block_num]\n",
    "            shuffle(accumulator1) # randomize target amplitudes within a block\n",
    "            accumulator2.append(accumulator1)\n",
    "        stim_num_dict2[task] = accumulator2\n",
    "\n",
    "    # Organize stimulus numbers into blocks\n",
    "    blocked_stim_num_order = []\n",
    "    for j, row in enumerate(repeated_latin_sq):\n",
    "        for i in row:\n",
    "            task = task_types[i]\n",
    "            blocked_stim_num_order.append(stim_num_dict2[task][j])\n",
    "    \n",
    "    return blocked_stim_num_order\n",
    "\n",
    "\n",
    "def generate_block_tuples(block_stim_nums):\n",
    "    # Pack trial information into a tuples\n",
    "    block_order = []\n",
    "    for stim_num in block_stim_nums:\n",
    "        curr_stim_fname = \"stim_\" + str(stim_num).zfill(5) + \".wav\"\n",
    "        curr_stim_path = STIM_DIR/curr_stim_fname\n",
    "        curr_stim_df = stim_df[stim_df[\"stim_num\"] == stim_num]\n",
    "        target_idx = np.where(curr_stim_df[\"is_target\"])[0][0]\n",
    "        target_sentence = curr_stim_df[\"pattern\"].values[target_idx]\n",
    "        curr_stim = SoundLoader(curr_stim_path)\n",
    "        block_order.append((stim_num, curr_stim, target_idx, target_sentence))\n",
    "    return block_order"
   ]
  },
  {
   "cell_type": "code",
   "execution_count": null,
   "metadata": {},
   "outputs": [],
   "source": [
    "stim_df = pd.read_csv(STIM_DIR/\"stimulus_database.csv\")\n",
    "\n",
    "subject_ID = \"XX\"\n",
    "task_types = [\"SMN-motion_detection\", \"BUG-motion_detection\", \"BUG-speech_ID\"]\n",
    "targ_amps = [5., 10., 15., 20., 25., 30.]\n",
    "n_trials_per_task_per_amp = 120\n",
    "n_trials_per_block_per_amp = 10\n",
    "n_tasks = len(task_types)\n",
    "n_amps = len(targ_amps)\n",
    "\n",
    "n_blocks_per_task, n_blocks, n_trials, n_trials_per_block = \\\n",
    "    compute_n_trials(n_tasks, n_amps, n_trials_per_task_per_amp, n_trials_per_block_per_amp)\n",
    "task_order = generate_task_order(n_tasks, n_blocks_per_task)\n",
    "run_stim_order = \\\n",
    "    generate_run_stim_order(stim_df,\n",
    "                            task_types,\n",
    "                            targ_amps,\n",
    "                            n_trials_per_task_per_amp,\n",
    "                            n_trials_per_block_per_amp,\n",
    "                            n_blocks_per_task,\n",
    "                            task_order)\n",
    "\n",
    "# for block_stim_nums in run_stim_order:\n",
    "#     generate_block_tuples(block_stim_nums)"
   ]
  },
  {
   "cell_type": "code",
   "execution_count": null,
   "metadata": {},
   "outputs": [],
   "source": [
    "from datetime import datetime   \n",
    "from pytz import utc, timezone\n",
    "\n",
    "LOCAL_TZ = timezone(\"America/New_York\")\n",
    "\n",
    "now = datetime.now()\n",
    "local_dt = LOCAL_TZ.localize(now, is_dst=None)\n",
    "now_utc = local_dt.astimezone(utc)\n",
    "timestr = \"UTC {:s}-{:s}-{:s} {:s}:{:s}:{:s}.{:s}\".format(\\\n",
    "              now_utc.strftime(\"%Y\").zfill(4),\n",
    "              now_utc.strftime(\"%m\").zfill(2),\n",
    "              now_utc.strftime(\"%d\").zfill(2),\n",
    "              now_utc.strftime(\"%H\").zfill(2),\n",
    "              now_utc.strftime(\"%M\").zfill(2),\n",
    "              now_utc.strftime(\"%S\").zfill(2),\n",
    "              str(now_utc.microsecond//1000).zfill(3))\n",
    "\n",
    "print(timestr)"
   ]
  },
  {
   "cell_type": "code",
   "execution_count": null,
   "metadata": {},
   "outputs": [],
   "source": []
  },
  {
   "cell_type": "markdown",
   "metadata": {},
   "source": [
    "# Generate amplitude modulated moving noise sources\n",
    "### 06/28/21"
   ]
  },
  {
   "cell_type": "code",
   "execution_count": null,
   "metadata": {},
   "outputs": [],
   "source": [
    "fs = 44100\n",
    "talkers, sentences, snds = make_sentence(3)\n",
    "gns = [ALL_WORDS_SPECT.to_Noise(len(snd)/fs, fs) for snd in snds]\n",
    "smn = [gns[i]*snds[i].extract_envelope() for i in range(len(gns))]\n",
    "smn = normalize_rms(smn)"
   ]
  },
  {
   "cell_type": "code",
   "execution_count": null,
   "metadata": {},
   "outputs": [],
   "source": [
    "gns[0]*snds[0].extract_envelope()"
   ]
  },
  {
   "cell_type": "code",
   "execution_count": null,
   "metadata": {},
   "outputs": [],
   "source": [
    "snds[1].play()\n",
    "plt.plot(snds[1].data)"
   ]
  },
  {
   "cell_type": "code",
   "execution_count": null,
   "metadata": {},
   "outputs": [],
   "source": [
    "smn[1].play()\n",
    "plt.plot(smn[1].data)"
   ]
  },
  {
   "cell_type": "code",
   "execution_count": null,
   "metadata": {},
   "outputs": [],
   "source": [
    "sentences"
   ]
  },
  {
   "cell_type": "markdown",
   "metadata": {},
   "source": [
    "# Generate speech ID examples and save\n",
    "### 06/08/21\n",
    "\n",
    "**MAKE SURE LEVEL IS SET EQUAL TO THE PRESENTATION STIMULI**"
   ]
  },
  {
   "cell_type": "markdown",
   "metadata": {},
   "source": [
    "**DO NOT RUN BELOW UNLESS YOU WANT TO REPLACE THE EXAMPLE STIMULI**"
   ]
  },
  {
   "cell_type": "code",
   "execution_count": null,
   "metadata": {},
   "outputs": [],
   "source": [
    "level = 65.\n",
    "ex_conds = [(3, 30), (3, 30), (3, 30), (3, 15), (3, 15), (3, 15)]\n",
    "ex_target_idxs, ex_stims = zip(*[make_motion_examples(*pair) for pair in ex_conds])\n",
    "\n",
    "for i in range(len(ex_stims)):\n",
    "    ex_stims[i].save(EXMP_DIR/(\"speech_ID_ex\" + str(i + 1) + \".wav\"))\n",
    "\n",
    "with open(EXMP_DIR/\"speech_ID_ex_target_idxs.txt\", \"w\") as fin:\n",
    "    for item in ex_target_idxs:\n",
    "        fin.write(\"{:d}\\n\".format(item))"
   ]
  },
  {
   "cell_type": "markdown",
   "metadata": {},
   "source": [
    "Read in examples:"
   ]
  },
  {
   "cell_type": "code",
   "execution_count": null,
   "metadata": {},
   "outputs": [],
   "source": [
    "for f in sorted(os.listdir(EXMP_DIR)):\n",
    "    if f.startswith(\"speech_ID\") and f.endswith(\".txt\"):\n",
    "        with open(EXMP_DIR/f, \"r\") as fin:\n",
    "            lines = fin.readlines()\n",
    "ex_target_idxs = [int(i) for i in lines]\n",
    "ex_stims = [SoundLoader(EXMP_DIR/f) for f in sorted(os.listdir(EXMP_DIR))\n",
    "            if f.startswith(\"speech_ID\") and\n",
    "               f.endswith(\".wav\")]"
   ]
  },
  {
   "cell_type": "code",
   "execution_count": null,
   "metadata": {},
   "outputs": [],
   "source": [
    "speech_ID_ex_answers = [\"JANE SAW NINE GREEN HATS\",\n",
    "                        \"MIKE FOUND NINE RED CARDS\",\n",
    "                        \"JILL LOST NINE NEW GLOVES\",\n",
    "                        \"BOB FOUND TEN SMALL SHOES\",\n",
    "                        \"SAM LOST NINE RED PENS\",\n",
    "                        \"SUE GAVE FIVE GREEN GLOVES\"]"
   ]
  },
  {
   "cell_type": "markdown",
   "metadata": {},
   "source": [
    "# Generate detection examples and save\n",
    "### 06/08/21"
   ]
  },
  {
   "cell_type": "markdown",
   "metadata": {},
   "source": [
    "**DO NOT RUN BELOW UNLESS YOU WANT TO REPLACE THE EXAMPLE STIMULI**"
   ]
  },
  {
   "cell_type": "code",
   "execution_count": null,
   "metadata": {},
   "outputs": [],
   "source": [
    "ex_conds = [(1, 30), (1, 30), (3, 30), (3, 30), (3, 15), (3, 0)]\n",
    "ex_target_idxs, ex_stims = zip(*[make_motion_examples(*pair) for pair in ex_conds])\n",
    "\n",
    "for i in range(len(ex_stims)):\n",
    "    ex_stims[i].save(EXMP_DIR/(\"detection_ex\" + str(i + 1) + \".wav\"))\n",
    "\n",
    "with open(EXMP_DIR/\"detection_ex_target_idxs.txt\", \"w\") as fin:\n",
    "    for item in ex_target_idxs:\n",
    "        fin.write(\"{:d}\\n\".format(item))"
   ]
  },
  {
   "cell_type": "markdown",
   "metadata": {},
   "source": [
    "Read in examples:"
   ]
  },
  {
   "cell_type": "code",
   "execution_count": null,
   "metadata": {},
   "outputs": [],
   "source": [
    "for f in sorted(os.listdir(EXMP_DIR)):\n",
    "    if f.startswith(\"detection\") and f.endswith(\".txt\"):\n",
    "        with open(EXMP_DIR/f, \"r\") as fin:\n",
    "            lines = fin.readlines()\n",
    "ex_target_idxs = [int(i) for i in lines]\n",
    "ex_stims = [SoundLoader(EXMP_DIR/f) for f in sorted(os.listdir(EXMP_DIR))\n",
    "            if f.startswith(\"detection\") and\n",
    "               f.endswith(\".wav\")]"
   ]
  },
  {
   "cell_type": "markdown",
   "metadata": {},
   "source": [
    "# Make experimental conditions using Latin square\n",
    "### 04/07/21"
   ]
  },
  {
   "cell_type": "code",
   "execution_count": null,
   "metadata": {},
   "outputs": [],
   "source": [
    "def generate_latin_square(n, balanced=False):\n",
    "    \"\"\"\n",
    "    Williams, E. J. (1949): Experimental designs balanced\n",
    "    for the estimation of residual effects of treatments.\n",
    "    \"\"\"\n",
    "    l = [ [((1 + j//2 if j%2 == 1 else n - j//2) + i)%n + 1\n",
    "           for j in range(n)]\n",
    "           for i in range(n)]\n",
    "    if balanced:\n",
    "        if n%2 == 1:  # Repeat reversed for odd n\n",
    "            l += [seq[::-1] for seq in l]\n",
    "        return np.array(l) - 1\n",
    "    else:\n",
    "        l = np.array(l) - 1\n",
    "        l[1:] = np.random.permutation(l[1:]) # permute all rows except first\n",
    "        return l\n",
    "\n",
    "\n",
    "def choose_stim_for_run(stim_df,\n",
    "                        n_srcs,\n",
    "                        targ_amps,\n",
    "                        n_trials_per_block_per_amp,\n",
    "                        balanced):\n",
    "    latin_sq = generate_latin_square(len(n_srcs), balanced=balanced).flatten()\n",
    "    src_order_list = n_srcs[latin_sq]\n",
    "    n_repetitions = len(src_order_list)\n",
    "    n_draw = n_trials_per_block_per_amp*n_repetitions\n",
    "\n",
    "    # First, randomly draw stim numbers for each condition\n",
    "    conditions = [(src, amp) for src in n_srcs for amp in targ_amps]\n",
    "    grouped_by_count = stim_df.groupby(\"stim_num\").count()\n",
    "    is_target = stim_df[stim_df[\"is_target\"]]\n",
    "    stim_nums_by_condition = []\n",
    "    for n_src, amp in conditions:\n",
    "        curr_src = set(grouped_by_count[grouped_by_count[\"src\"] == n_src].index)\n",
    "        curr_amp = set(is_target[(is_target[\"amplitude\"] == amp).values][\"stim_num\"].values)\n",
    "        stim_nums_by_condition.append(list(curr_src.intersection(curr_amp)))\n",
    "    cond_stim_num_dict = dict(zip(conditions, stim_nums_by_condition))\n",
    "    drawn_stim_nums = {(src, amp): np.random.choice(cond_stim_num_dict[(src, amp)], n_draw)\n",
    "                       for src in n_srcs for amp in targ_amps}\n",
    "\n",
    "    # Next, order the stimuli in blocks\n",
    "    all_block_list = []\n",
    "    for i, src in enumerate(src_order_list):\n",
    "        curr_amp_stim_nums = np.array([], dtype=int)\n",
    "        for amp in targ_amps:\n",
    "            curr_slice = slice( i     *n_trials_per_block_per_amp,\n",
    "                               (i + 1)*n_trials_per_block_per_amp)\n",
    "            curr_amp_stim_nums = \\\n",
    "                np.append(curr_amp_stim_nums, drawn_stim_nums[(src, amp)][curr_slice])\n",
    "        curr_stims = [SoundLoader(STIM_DIR/(\"stim_\" + str(stim_num).zfill(5) + \".wav\"))\n",
    "                      for stim_num in curr_amp_stim_nums]\n",
    "        # Build pattern items list\n",
    "        curr_sub_df = stim_df.loc[(stim_df[\"stim_num\"].isin(curr_amp_stim_nums)) &\n",
    "                                  (stim_df[\"is_target\"])]\n",
    "        indices = [curr_sub_df.index[curr_sub_df[\"stim_num\"] == stim_num]\n",
    "                   for stim_num in curr_amp_stim_nums]\n",
    "        pattern_items = [curr_sub_df.loc[idx.values[0]][\"pattern\"].split(\" \") for idx in indices]\n",
    "\n",
    "        stim_tuple = list(zip(curr_stims, curr_amp_stim_nums, pattern_items))\n",
    "        np.random.shuffle(stim_tuple)\n",
    "        all_block_list.append(stim_tuple)\n",
    "    return all_block_list, src_order_list"
   ]
  },
  {
   "cell_type": "code",
   "execution_count": null,
   "metadata": {},
   "outputs": [],
   "source": [
    "stim_database = pd.read_csv(STIM_DIR/\"stimulus_database.csv\")\n",
    "n_srcs = np.array([2, 3, 4])\n",
    "targ_amps = np.array([0., 5., 10., 20.])\n",
    "n_trials_per_block_per_amp = 5\n",
    "run_stim_order, src_order = \\\n",
    "    choose_stim_for_run(stim_database,\n",
    "                        n_srcs,\n",
    "                        targ_amps,\n",
    "                        n_trials_per_block_per_amp,\n",
    "                        balanced=True)"
   ]
  },
  {
   "cell_type": "markdown",
   "metadata": {},
   "source": [
    "# Vary angle amplitude\n",
    "### 04/06/21\n",
    "rate = 2 Hz\n",
    "\n",
    "amplitudes = 5, 10, 20 deg"
   ]
  },
  {
   "cell_type": "code",
   "execution_count": null,
   "metadata": {},
   "outputs": [],
   "source": [
    "spatial_resolution = 2 # average samples per degree over the whole trajectory\n",
    "level = 80\n",
    "r = 100\n",
    "elev = 0\n",
    "\n",
    "curr_n = 3\n",
    "f = 2.\n",
    "traj_amplitudes = [5, 10, 20]\n",
    "src_spacing = 40\n",
    "\n",
    "talkers, sentences, snds = make_sentence(curr_n)\n",
    "snds = zeropad_sounds(snds)\n",
    "snds = normalize_rms(snds)\n",
    "snds = [snd.make_binaural() for snd in snds]\n",
    "t_dur = len(snds[0])/snds[0].fs\n",
    "\n",
    "# Designate target\n",
    "target_idx = np.random.randint(curr_n)\n",
    "is_target = np.zeros(curr_n, dtype=bool)\n",
    "is_target[target_idx] = True\n",
    "rates = np.zeros(curr_n)\n",
    "rates[target_idx] = f\n",
    "\n",
    "# Set trajectory parameters\n",
    "A = traj_amplitudes[2]\n",
    "B = f\n",
    "C = np.random.choice([0, 0.5])\n",
    "D = np.array([src_spacing*i for i in range(curr_n)])\n",
    "D = D - D.mean()\n",
    "# D = np.array([-90, 0, 90])\n",
    "# D = np.zeros(curr_n)\n",
    "\n",
    "# Select target and make the trajectories\n",
    "trajs = [make_circular_sinuisoidal_trajectory(\\\n",
    "             spatial_resolution, t_dur, r, elev,\n",
    "             A, B, C, D[i])\n",
    "         if target\n",
    "         else\n",
    "         make_circular_sinuisoidal_trajectory(\\\n",
    "             spatial_resolution, t_dur, r, elev,\n",
    "             0, 0, 0, D[i])\n",
    "         for i, target in enumerate(is_target)]\n",
    "\n",
    "# Move each source\n",
    "moved_snds = [move_sound(trajs[i], snds[i]) for i in range(curr_n)]\n",
    "# stimulus = moved_snds[target_idx] + compute_attenuation(level)\n",
    "combined_moved_snds = normalize_rms([sum(moved_snds)])[0]\n",
    "stimulus = combined_moved_snds + compute_attenuation(level)\n",
    "# stimulus = combined_moved_snds - 36"
   ]
  },
  {
   "cell_type": "code",
   "execution_count": null,
   "metadata": {},
   "outputs": [],
   "source": [
    "stimulus.play()"
   ]
  },
  {
   "cell_type": "code",
   "execution_count": null,
   "metadata": {},
   "outputs": [],
   "source": [
    "(moved_snds[2] - 30).play()"
   ]
  },
  {
   "cell_type": "code",
   "execution_count": null,
   "metadata": {},
   "outputs": [],
   "source": [
    "print(target_idx)\n",
    "print(len(moved_snds[target_idx])/44100)\n",
    "plt.plot(traj_to_theta(trajs[target_idx]))\n",
    "plt.show()"
   ]
  },
  {
   "cell_type": "code",
   "execution_count": null,
   "metadata": {},
   "outputs": [],
   "source": [
    "(moved_snds[target_idx] - 36).play()"
   ]
  },
  {
   "cell_type": "code",
   "execution_count": null,
   "metadata": {},
   "outputs": [],
   "source": [
    "fig, axes = plt.subplots(1, 3, figsize=(15, 5))\n",
    "for i, ax in enumerate(axes):\n",
    "    ax.plot(moved_snds[i].data, alpha=0.5)\n",
    "plt.show()"
   ]
  },
  {
   "cell_type": "code",
   "execution_count": null,
   "metadata": {},
   "outputs": [],
   "source": [
    "generate_latin_square(3)"
   ]
  },
  {
   "cell_type": "markdown",
   "metadata": {},
   "source": [
    "# Standard sinusoid\n",
    "### 03/29/21\n",
    "* A = traj_amplitude\n",
    "* B = f\n",
    "* C = fraction of a cycle\n",
    "* D = init_angle\n",
    "* A sin(2pi B (x + C/B)) + D"
   ]
  },
  {
   "cell_type": "code",
   "execution_count": null,
   "metadata": {},
   "outputs": [],
   "source": [
    "freq = 1\n",
    "t_dur = 1\n",
    "t = np.linspace(0, t_dur, 200)\n",
    "\n",
    "A = 15\n",
    "B = freq\n",
    "# C = np.random.uniform(0, 1)\n",
    "C = 0.25\n",
    "D = 45\n",
    "\n",
    "angular_traj = A*np.sin(2*np.pi*B*(t + C/B)) + D\n",
    "\n",
    "plt.plot(t, angular_traj)\n",
    "plt.ylim((-90, 90))\n",
    "plt.show()"
   ]
  },
  {
   "cell_type": "markdown",
   "metadata": {},
   "source": [
    "# One static, one moving, no cue word\n",
    "\n",
    "function of n_srcs = 2, 3, 4\n",
    "\n",
    "function of rate = 0.1, 0.5, 2.5\n",
    "\n",
    "compare with static cue word? or knowing where to listen\n",
    "\n",
    "=> the degree to which motion grabs attention?\n",
    "\n",
    "always 30 degrees apart\n",
    "\n",
    "n_srcs, target_idx, amplitude, rate, theta_i\n",
    "2, 0, [1, 0], [-15, 15]\n",
    "\n",
    "(random direction)\n",
    "\n",
    "how about wiggling?"
   ]
  },
  {
   "cell_type": "code",
   "execution_count": null,
   "metadata": {},
   "outputs": [],
   "source": [
    "n_srcs = 2\n",
    "src_spacing = 40\n",
    "target_idx = np.random.randint(n_srcs)\n",
    "traj_amplitude = 20\n",
    "target_freq = 0.5\n",
    "\n",
    "A = traj_amplitude\n",
    "B = target_freq\n",
    "C = np.random.uniform(size=n_srcs)\n",
    "D = np.array([src_spacing*i for i in range(n_srcs)])\n",
    "D = D - D.mean()\n",
    "\n",
    "talkers, sentences, snds = make_sentence(n_srcs)\n",
    "snds = zeropad_sounds(snds)\n",
    "snds = [snd.make_binaural() for snd in snds]\n",
    "t_dur = len(snds[0])/snds[0].fs\n",
    "\n",
    "trajs = [make_circular_sinuisoidal_trajectory(2, t_dur, 100, 0,\n",
    "                                              0, 0, C[i], D[i])\n",
    "         if i != target_idx\n",
    "         else\n",
    "         make_circular_sinuisoidal_trajectory(2, t_dur, 100, 0,\n",
    "                                              A, B, C[i], D[i])\n",
    "         for i in range(n_srcs)]\n",
    "moved_snds = [move_sound(trajs[i], snds[i]) - 30 for i in range(n_srcs)]\n",
    "stim = sum(moved_snds)\n",
    "# stim.play()"
   ]
  },
  {
   "cell_type": "markdown",
   "metadata": {},
   "source": [
    "# Speech-shaped noise masker/multiple maskers"
   ]
  },
  {
   "cell_type": "code",
   "execution_count": null,
   "metadata": {},
   "outputs": [],
   "source": [
    "talkers, sentences, snds = make_sentence(5, syntax_condition=\"random\")\n",
    "\n",
    "target_trj = make_circular_sinuisoidal_trajectory(2, t_dur, 100, 0, target_f,\n",
    "                                                  180*(np.random.random() - 0.5),\n",
    "                                                  np.random.choice([True, False]))"
   ]
  },
  {
   "cell_type": "code",
   "execution_count": null,
   "metadata": {},
   "outputs": [],
   "source": [
    "talkers, sentences, snds = make_sentence(5, syntax_condition=\"random\")\n",
    "answer = sentences[0]\n",
    "snds = zeropad_sounds(snds)\n",
    "\n",
    "target_snd = snds[0]\n",
    "masker1_snd = snds[1]\n",
    "masker2_snd = snds[2]\n",
    "masker3_snd = snds[3]\n",
    "masker4_snd = snds[4]\n",
    "\n",
    "t_dur = len(target_snd)/target_snd.fs\n",
    "fs = target_snd.fs\n",
    "\n",
    "ssn_snd = ALL_WORDS_SPECT.to_Noise(t_dur, fs)\n",
    "ssn_env = ssn_snd.extract_envelope()\n",
    "ssn_tfs = ssn_snd/ssn_env\n",
    "\n",
    "masker1_env = masker1_snd.extract_envelope()\n",
    "masker2_env = masker2_snd.extract_envelope()\n",
    "masker3_env = masker3_snd.extract_envelope()\n",
    "masker4_env = masker4_snd.extract_envelope()\n",
    "\n",
    "# smssn1_snd = normalize_rms([masker1_env*ssn_tfs])[0]\n",
    "# smssn2_snd = normalize_rms([masker2_env*ssn_tfs])[0]\n",
    "\n",
    "smssn1_snd = normalize_rms([masker1_snd])[0]\n",
    "smssn2_snd = normalize_rms([masker2_snd])[0]\n",
    "smssn3_snd = normalize_rms([masker3_snd])[0]\n",
    "smssn4_snd = normalize_rms([masker4_snd])[0]\n",
    "\n",
    "target_snd = target_snd.make_binaural()\n",
    "smssn1_snd = smssn1_snd.make_binaural()\n",
    "smssn2_snd = smssn2_snd.make_binaural()\n",
    "smssn3_snd = smssn3_snd.make_binaural()\n",
    "smssn4_snd = smssn4_snd.make_binaural()\n",
    "\n",
    "target_f = 0.\n",
    "smssn1_f = 0.5\n",
    "smssn2_f = 0.5\n",
    "smssn3_f = 0.5\n",
    "smssn4_f = 0.5\n",
    "target_trj = make_circular_sinuisoidal_trajectory(2, t_dur, 100, 0, target_f,\n",
    "                                                  180*(np.random.random() - 0.5),\n",
    "                                                  np.random.choice([True, False]))\n",
    "smssn1_trj = make_circular_sinuisoidal_trajectory(2, t_dur, 100, 0, smssn1_f,\n",
    "                                                  180*(np.random.random() - 0.5),\n",
    "                                                  np.random.choice([True, False]))\n",
    "smssn2_trj = make_circular_sinuisoidal_trajectory(2, t_dur, 100, 0, smssn2_f,\n",
    "                                                  180*(np.random.random() - 0.5),\n",
    "                                                  np.random.choice([True, False]))\n",
    "smssn3_trj = make_circular_sinuisoidal_trajectory(2, t_dur, 100, 0, smssn3_f,\n",
    "                                                  180*(np.random.random() - 0.5),\n",
    "                                                  np.random.choice([True, False]))\n",
    "smssn4_trj = make_circular_sinuisoidal_trajectory(2, t_dur, 100, 0, smssn4_f,\n",
    "                                                  180*(np.random.random() - 0.5),\n",
    "                                                  np.random.choice([True, False]))\n",
    "\n",
    "moved_target = move_sound(target_trj, target_snd) - 30\n",
    "moved_smssn1 = move_sound(smssn1_trj, smssn1_snd) - 30\n",
    "moved_smssn2 = move_sound(smssn2_trj, smssn2_snd) - 30\n",
    "moved_smssn3 = move_sound(smssn3_trj, smssn3_snd) - 30\n",
    "moved_smssn4 = move_sound(smssn4_trj, smssn4_snd) - 30\n",
    "\n",
    "# summed = moved_target + moved_smssn1 + moved_smssn2 + moved_smssn3 + moved_smssn4\n",
    "summed = moved_target + moved_smssn1 + moved_smssn2\n",
    "\n",
    "# fig, axes = plt.subplots(1, 3, figsize=(15, 3))\n",
    "# axes[0].plot(moved_target.data, alpha=0.5)\n",
    "# axes[1].plot(moved_smssn1.data, alpha=0.5)\n",
    "# axes[2].plot(moved_smssn2.data, alpha=0.5)\n",
    "# plt.show()"
   ]
  },
  {
   "cell_type": "code",
   "execution_count": null,
   "metadata": {},
   "outputs": [],
   "source": [
    "summed.play()\n",
    "print(answer)"
   ]
  },
  {
   "cell_type": "markdown",
   "metadata": {},
   "source": [
    "# Difference between RMS and mean of abs"
   ]
  },
  {
   "cell_type": "code",
   "execution_count": null,
   "metadata": {},
   "outputs": [],
   "source": [
    "x1 = np.linspace(0, 100*2*pi, 10000) + 2*np.pi*np.random.rand()\n",
    "# x2 = x1 - np.pi\n",
    "x2 = 100*x1 + 2*np.pi*np.random.rand()\n",
    "\n",
    "y1 = 90*np.sin(x1)\n",
    "y2 = 90*np.sin(x2)\n",
    "y3 = y1 - y2\n",
    "\n",
    "print(RMS(y3) - np.mean(np.abs(y3)))\n",
    "\n",
    "fig, axes = plt.subplots(1, 2, figsize=(10, 4))\n",
    "axes[0].plot(np.abs(y3))\n",
    "_ = axes[1].hist(np.abs(y3), bins=100)\n",
    "plt.show()"
   ]
  },
  {
   "cell_type": "markdown",
   "metadata": {},
   "source": [
    "# Verify RMS of sounds after moving (should be 1)"
   ]
  },
  {
   "cell_type": "code",
   "execution_count": null,
   "metadata": {},
   "outputs": [],
   "source": [
    "T = 1\n",
    "fs = 44100\n",
    "gn1 = GaussianNoise(T, 44100).make_binaural()\n",
    "gn2 = GaussianNoise(T, 44100).make_binaural()\n",
    "\n",
    "r = 100\n",
    "rate1 = 1\n",
    "rate2 = 10\n",
    "init_angle1 = 0\n",
    "init_angle2 = 0\n",
    "init_R = True\n",
    "traj1 = make_circular_sinuisoidal_trajectory(2, T, r, 0, rate1, init_angle1, init_R)\n",
    "traj2 = make_circular_sinuisoidal_trajectory(2, T, r, 0, rate2, init_angle2, init_R)\n",
    "thetas1 = traj_to_theta(traj1)\n",
    "thetas2 = traj_to_theta(traj2)\n",
    "\n",
    "moved_gn1 = move_sound(traj1, gn1)\n",
    "moved_gn2 = move_sound(traj2, gn2)"
   ]
  },
  {
   "cell_type": "code",
   "execution_count": null,
   "metadata": {},
   "outputs": [],
   "source": [
    "print(RMS(moved_gn1.data))\n",
    "print(RMS(moved_gn1.data[:, 0]))\n",
    "print(RMS(moved_gn1.data[:, 1]))\n",
    "plt.plot(moved_gn1.data)\n",
    "plt.show()"
   ]
  },
  {
   "cell_type": "code",
   "execution_count": null,
   "metadata": {},
   "outputs": [],
   "source": [
    "print(RMS(moved_gn2.data))\n",
    "print(RMS(moved_gn2.data[:, 0]))\n",
    "print(RMS(moved_gn2.data[:, 1]))\n",
    "plt.plot(moved_gn2.data)\n",
    "plt.show()"
   ]
  },
  {
   "cell_type": "code",
   "execution_count": null,
   "metadata": {},
   "outputs": [],
   "source": [
    "print(RMS( (moved_gn1 + moved_gn2).data ))\n",
    "print(RMS( (moved_gn1.data + moved_gn2.data)[:, 0] ))\n",
    "print(RMS( (moved_gn1.data + moved_gn2.data)[:, 1] ))\n",
    "plt.plot(moved_gn1.data + moved_gn2.data)\n",
    "plt.show()"
   ]
  },
  {
   "cell_type": "markdown",
   "metadata": {},
   "source": [
    "# Generate figures to validate trajectory\n",
    "Plot ITD and ILD cues for -90 to +90 trajectory to show nonlinearity:"
   ]
  },
  {
   "cell_type": "code",
   "execution_count": null,
   "metadata": {},
   "outputs": [],
   "source": [
    "iac_dur = 5e-3 # Analysis window = 5 ms\n",
    "iac = InterauralCues(moved_gn2, iac_dur)\n",
    "ILDs = iac.ILDs\n",
    "ITDs = iac.ITDs\n",
    "ILDs[-1] = 0\n",
    "ITDs[np.where(np.abs(ITDs) > 1e-3)[0]] = 0\n",
    "\n",
    "# ILDs = ILDs[:-1]\n",
    "# ITDs = 1e6*ITDs[:-1]\n",
    "ITDs = 1e6*ITDs\n",
    "\n",
    "a = 87.5e-3\n",
    "c = 343\n",
    "rads2 = 2*np.pi*thetas2/360\n",
    "woodworth2 = 1e6*a/c*(rads2 + np.sin(rads2))"
   ]
  },
  {
   "cell_type": "code",
   "execution_count": null,
   "metadata": {},
   "outputs": [],
   "source": [
    "fig, axes = plt.subplots(3, 1, figsize=(6, 4), constrained_layout=True)\n",
    "axes[0].plot(thetas2, \"k-\", alpha=0.8)\n",
    "axes[1].plot(ILDs, \"k-\", alpha=0.8)\n",
    "axes[2].plot(ITDs, \"k-\", alpha=0.8)\n",
    "# axes[2].plot(np.linspace(0, len(ITDs), len(woodworth2)), woodworth2, \"k--\", alpha=0.5)\n",
    "\n",
    "axes[0].set_xlim((0, len(thetas2)))\n",
    "axes[1].set_xlim((0, len(ILDs)))\n",
    "axes[2].set_xlim((0, len(ITDs)))\n",
    "\n",
    "axes[0].set_xticks([round(i*len(thetas2)/5) for i in range(6)])\n",
    "axes[1].set_xticks([round(i*len(ITDs)/5) for i in range(6)])\n",
    "axes[2].set_xticks([round(i*len(ILDs)/5) for i in range(6)])\n",
    "\n",
    "axes[0].set_xticklabels([])\n",
    "axes[1].set_xticklabels([])\n",
    "axes[2].set_xticklabels([\"{:.1f}\".format(i) for i in np.arange(0, T + 0.01, 0.2)], fontsize=10)\n",
    "\n",
    "axes[2].set_xlabel(\"Time [s]\", fontsize=14)\n",
    "\n",
    "axes[0].set_yticks(np.arange(-90, 91, 45))\n",
    "axes[1].set_yticks(np.arange(-20, 21, 10))\n",
    "axes[2].set_yticks(np.arange(-800, 801, 400))\n",
    "\n",
    "axes[0].set_yticklabels(np.arange(-90, 91, 45), fontsize=10)\n",
    "axes[1].set_yticklabels(np.arange(-20, 21, 10), fontsize=10)\n",
    "axes[2].set_yticklabels(np.arange(-800, 801, 400), fontsize=10)\n",
    "\n",
    "axes[0].set_ylim((-90, 90))\n",
    "axes[1].set_ylim((-22, 22))\n",
    "axes[2].set_ylim((-800, 800))\n",
    "\n",
    "axes[0].set_ylabel(r\"$\\theta$\", fontsize=14)\n",
    "axes[1].set_ylabel(\"ILD [dB]\", fontsize=14)\n",
    "axes[2].set_ylabel(\"ITD [$\\mu$s]\", fontsize=14)\n",
    "\n",
    "axes[0].grid(linestyle=\":\")\n",
    "axes[1].grid(linestyle=\":\")\n",
    "axes[2].grid(linestyle=\":\")\n",
    "\n",
    "# axes[0].set_title(r\"\\textbf{Trajectory validation}\", fontsize=20)\n",
    "\n",
    "plt.show()\n",
    "# fig.savefig(\"validate_synthesis.pdf\")"
   ]
  },
  {
   "cell_type": "markdown",
   "metadata": {},
   "source": [
    "# Level is _not normalized_ after converting from spectrum to noise for SSN\n",
    "### 02/08/21"
   ]
  },
  {
   "cell_type": "code",
   "execution_count": null,
   "metadata": {},
   "outputs": [],
   "source": [
    "test_noise = ALL_WORDS_SPECT.to_Noise(2, 44100)\n",
    "print(RMS(test_noise.data))\n",
    "\n",
    "plt.plot(test_noise.data)\n",
    "plt.show()"
   ]
  }
 ],
 "metadata": {
  "kernelspec": {
   "display_name": "Python 3 (ipykernel)",
   "language": "python",
   "name": "python3"
  },
  "language_info": {
   "codemirror_mode": {
    "name": "ipython",
    "version": 3
   },
   "file_extension": ".py",
   "mimetype": "text/x-python",
   "name": "python",
   "nbconvert_exporter": "python",
   "pygments_lexer": "ipython3",
   "version": "3.9.6"
  }
 },
 "nbformat": 4,
 "nbformat_minor": 4
}
