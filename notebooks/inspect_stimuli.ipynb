{
 "cells": [
  {
   "cell_type": "code",
   "execution_count": 2,
   "metadata": {},
   "outputs": [
    {
     "name": "stdout",
     "output_type": "stream",
     "text": [
      "================================================================================\n",
      "INITIALIZATION\n",
      "================================================================================\n",
      "Setting paths...\n",
      "Importing sigtools...\n",
      "Setting up sounddevice...\n",
      "Importing level adjustments...\n",
      "Setting eligible BUG words...\n",
      "Set values for tone pattern synthesis...\n",
      "Initialization complete!\n",
      "================================================================================\n"
     ]
    }
   ],
   "source": [
    "import sys\n",
    "import numpy as np\n",
    "import pandas as pd\n",
    "import matplotlib.pyplot as plt\n",
    "import seaborn as sns\n",
    "sns.set()\n",
    "from pathlib import Path\n",
    "\n",
    "sys.path.append(\"/home/acho/Sync/KiddLab/MSM/src\")\n",
    "from utils.stim_tools import *\n",
    "\n",
    "sys.path.append(\"/home/acho/Sync/Python/sigtools\")\n",
    "from sigtools.representations import *\n",
    "# from sigtools.sounds import *\n",
    "# from sigtools.processing import *\n",
    "# from sigtools.spatialization import *\n",
    "\n",
    "\n",
    "PROJ_DIR = Path.home()/\"Sync\"/\"KiddLab\"/\"MSM\"\n",
    "STIM_DIR = PROJ_DIR/\"assets\"/\"stimuli\"\n",
    "# STIM_DATABASE = pd.read_csv(STIM_DIR/\"stimulus_database.csv\")"
   ]
  },
  {
   "cell_type": "code",
   "execution_count": 21,
   "metadata": {},
   "outputs": [
    {
     "name": "stdout",
     "output_type": "stream",
     "text": [
      "[ 269 1282 1026]\n",
      "[['CONSTANT' 'ALTERNATING' 'STEP-UP' 'STEP-DOWN' 'FALLING']\n",
      " ['FALLING' 'STEP-DOWN' 'FALLING' 'ALTERNATING' 'FALLING']\n",
      " ['ALTERNATING' 'CONSTANT' 'RISING' 'STEP-UP' 'CONSTANT']]\n",
      "[<sigtools.sounds.Sound object at 0x7fcbe062be10>, <sigtools.sounds.Sound object at 0x7fcbe062bbe0>, <sigtools.sounds.Sound object at 0x7fcbe062be48>]\n"
     ]
    }
   ],
   "source": [
    "CFs, p, snd = make_TP_sequence(3, 5, 2)\n",
    "print(CFs)\n",
    "print(p)\n",
    "print(snd)"
   ]
  },
  {
   "cell_type": "code",
   "execution_count": 25,
   "metadata": {},
   "outputs": [],
   "source": [
    "normalize_rms([sum(center_sounds(snd))])[0].play()"
   ]
  }
 ],
 "metadata": {
  "kernelspec": {
   "display_name": "Python 3",
   "language": "python",
   "name": "python3"
  },
  "language_info": {
   "codemirror_mode": {
    "name": "ipython",
    "version": 3
   },
   "file_extension": ".py",
   "mimetype": "text/x-python",
   "name": "python",
   "nbconvert_exporter": "python",
   "pygments_lexer": "ipython3",
   "version": "3.6.12"
  }
 },
 "nbformat": 4,
 "nbformat_minor": 4
}
