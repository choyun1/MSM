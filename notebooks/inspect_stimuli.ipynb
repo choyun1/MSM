{
 "cells": [
  {
   "cell_type": "code",
   "execution_count": 1,
   "metadata": {},
   "outputs": [
    {
     "name": "stdout",
     "output_type": "stream",
     "text": [
      "================================================================================\n",
      "|| MSM INITIALIZATION\n",
      "================================================================================\n",
      "Setting paths...\n",
      "Importing sigtools...\n",
      "Setting up sounddevice...\n",
      "Importing level adjustments...\n",
      "Setting eligible BUG words...\n",
      "Set values for tone pattern synthesis...\n",
      "Initialization complete!\n",
      "================================================================================\n"
     ]
    }
   ],
   "source": [
    "import sys\n",
    "import numpy as np\n",
    "import pandas as pd\n",
    "import matplotlib.pyplot as plt\n",
    "import seaborn as sns\n",
    "sns.set()\n",
    "from pathlib import Path\n",
    "\n",
    "sys.path.append(\"/home/acho/Sync/KiddLab/MSM/src\")\n",
    "from utils.stim_tools import *\n",
    "\n",
    "sys.path.append(\"/home/acho/Sync/Python/sigtools\")\n",
    "from sigtools.representations import *\n",
    "# from sigtools.sounds import *\n",
    "# from sigtools.processing import *\n",
    "# from sigtools.spatialization import *"
   ]
  },
  {
   "cell_type": "code",
   "execution_count": 13,
   "metadata": {},
   "outputs": [],
   "source": [
    "def set_stim_order(stim_database, n_srcs, task_type, conditions,\n",
    "                   n_blocks=None,\n",
    "                   n_trials_per_block_per_condition=None,\n",
    "                   n_trials_per_block=None,\n",
    "                   n_blocks_per_condition=None,\n",
    "                   randomize_within_block=True):\n",
    "    if randomize_within_block:\n",
    "        if n_trials_per_block or n_blocks_per_condition:\n",
    "            raise ValueError\n",
    "        n_trials_per_condition = n_blocks*n_trials_per_block_per_condition        \n",
    "    else:\n",
    "        if n_blocks or n_trials_per_block_per_condition:\n",
    "            raise ValueError\n",
    "        n_trials_per_condition = n_trials_per_block*n_blocks_per_condition\n",
    "    \n",
    "    temp = pd.DataFrame(columns=[\"cond\", \"stim_num\", \"pattern\"])\n",
    "    for cond in conditions:\n",
    "        if cond == \"co-located\":\n",
    "            cond_subset = \\\n",
    "                stim_database[(stim_database[\"n_srcs\"] == n_srcs) &\n",
    "                              (stim_database[\"stim_type\"] == task_type) &\n",
    "                              (stim_database[\"is_target\"]) &\n",
    "                              (stim_database[\"alt_rate\"] == 0) &\n",
    "                              (stim_database[\"init_angle\"] == 0)].sample(n_trials_per_condition)\n",
    "        elif cond == \"plus_minus_90\":\n",
    "            cond_subset = \\\n",
    "                stim_database[(stim_database[\"n_srcs\"] == n_srcs) &\n",
    "                              (stim_database[\"stim_type\"] == task_type) &\n",
    "                              (stim_database[\"is_target\"]) &\n",
    "                              (stim_database[\"alt_rate\"] == 0) &\n",
    "                              (stim_database[\"init_angle\"] != 0)].sample(n_trials_per_condition)\n",
    "        else:\n",
    "            cond_subset = \\\n",
    "                stim_database[(stim_database[\"n_srcs\"] == n_srcs) &\n",
    "                              (stim_database[\"stim_type\"] == task_type) &\n",
    "                              (stim_database[\"is_target\"]) &\n",
    "                              (stim_database[\"alt_rate\"] == cond)].sample(n_trials_per_condition)\n",
    "        cond_subset = cond_subset[[\"stim_num\", \"pattern\"]]\n",
    "        cond_subset.insert(0, \"cond\", len(cond_subset)*[str(cond)])\n",
    "        temp = temp.append(cond_subset)\n",
    "    \n",
    "    run_stim_order = []\n",
    "    if randomize_within_block:\n",
    "        for block_num in range(n_blocks):\n",
    "            curr_block = []\n",
    "            for cond in conditions:\n",
    "                curr_cond_df = temp[temp[\"cond\"] == cond]\n",
    "                sampled = curr_cond_df.sample(n_trials_per_block_per_condition, replace=False)\n",
    "                temp = temp.drop(sampled.index)\n",
    "                sampled_stim_nums = sampled[\"stim_num\"].values.astype(int)\n",
    "                sampled_stim_patterns = sampled[\"pattern\"].values\n",
    "                sampled_stim_patterns = [pattern.split(\" \") for pattern in sampled_stim_patterns]\n",
    "                sampled_stims = []\n",
    "                for stim_num in sampled_stim_nums:\n",
    "                    stim_path = STIM_DIR/(\"stim_\" + str(stim_num).zfill(5) + \".wav\")\n",
    "                    stimulus = SoundLoader(stim_path)\n",
    "                    sampled_stims.append(stimulus)\n",
    "                curr_block += list(zip(sampled_stims, sampled_stim_nums, sampled_stim_patterns))\n",
    "            np.random.shuffle(curr_block)\n",
    "            run_stim_order.append(curr_block)\n",
    "    else:\n",
    "        for _ in range(n_blocks_per_condition):\n",
    "            np.random.shuffle(conditions)\n",
    "            for cond in conditions:\n",
    "                curr_block = []\n",
    "                curr_cond_df = temp[temp[\"cond\"] == cond]\n",
    "                sampled = curr_cond_df.sample(n_trials_per_block, replace=False)\n",
    "                temp = temp.drop(sampled.index)\n",
    "                sampled_stim_nums = sampled[\"stim_num\"].values.astype(int)\n",
    "                sampled_stim_patterns = sampled[\"pattern\"].values\n",
    "                sampled_stim_patterns = [pattern.split(\" \") for pattern in sampled_stim_patterns]\n",
    "                sampled_stims = []\n",
    "                for stim_num in sampled_stim_nums:\n",
    "                    stim_path = STIM_DIR/(\"stim_\" + str(stim_num).zfill(5) + \".wav\")\n",
    "                    stimulus = SoundLoader(stim_path)\n",
    "                    sampled_stims.append(stimulus)\n",
    "                curr_block = list(zip(sampled_stims, sampled_stim_nums, sampled_stim_patterns))\n",
    "                np.random.shuffle(curr_block)\n",
    "                run_stim_order.append(curr_block)\n",
    "    return run_stim_order"
   ]
  },
  {
   "cell_type": "code",
   "execution_count": 3,
   "metadata": {},
   "outputs": [],
   "source": [
    "stim_database = pd.read_csv(STIM_DIR/\"stimulus_database.csv\")"
   ]
  },
  {
   "cell_type": "code",
   "execution_count": null,
   "metadata": {},
   "outputs": [],
   "source": [
    "sss = set_stim_order(stim_database, 2, \"SIM\", [\"co-located\", \"plus_minus_90\"], \n",
    "                     n_blocks=2, n_trials_per_block_per_condition=3)"
   ]
  },
  {
   "cell_type": "code",
   "execution_count": 14,
   "metadata": {},
   "outputs": [],
   "source": [
    "sss = set_stim_order(stim_database, 2, \"SIM\", [\"co-located\", \"plus_minus_90\"], \n",
    "                     n_trials_per_block=3, n_blocks_per_condition=1, randomize_within_block=False)"
   ]
  },
  {
   "cell_type": "code",
   "execution_count": 18,
   "metadata": {},
   "outputs": [
    {
     "data": {
      "text/plain": [
       "[[(<sigtools.sounds.SoundLoader at 0x7f06244c32e8>,\n",
       "   20,\n",
       "   ['SUE', 'FOUND', 'SIX', 'CHEAP', 'SHOES']),\n",
       "  (<sigtools.sounds.SoundLoader at 0x7f06244c5d68>,\n",
       "   27,\n",
       "   ['SUE', 'FOUND', 'THREE', 'NEW', 'BAGS']),\n",
       "  (<sigtools.sounds.SoundLoader at 0x7f06244c50f0>,\n",
       "   23,\n",
       "   ['SUE', 'SOLD', 'THREE', 'BIG', 'SOCKS'])],\n",
       " [(<sigtools.sounds.SoundLoader at 0x7f06244c3780>,\n",
       "   11,\n",
       "   ['SUE', 'LOST', 'THREE', 'CHEAP', 'BAGS']),\n",
       "  (<sigtools.sounds.SoundLoader at 0x7f06244c3748>,\n",
       "   12,\n",
       "   ['SUE', 'TOOK', 'SIX', 'HOT', 'SHOES']),\n",
       "  (<sigtools.sounds.SoundLoader at 0x7f06244c37b8>,\n",
       "   16,\n",
       "   ['SUE', 'GAVE', 'FIVE', 'NEW', 'PENS'])]]"
      ]
     },
     "execution_count": 18,
     "metadata": {},
     "output_type": "execute_result"
    }
   ],
   "source": [
    "sss"
   ]
  },
  {
   "cell_type": "code",
   "execution_count": 6,
   "metadata": {},
   "outputs": [
    {
     "data": {
      "text/plain": [
       "[(<sigtools.sounds.SoundLoader at 0x7f06244fb3c8>,\n",
       "  21,\n",
       "  ['SUE', 'FOUND', 'FIVE', 'BIG', 'HATS']),\n",
       " (<sigtools.sounds.SoundLoader at 0x7f06244fb320>,\n",
       "  27,\n",
       "  ['SUE', 'FOUND', 'THREE', 'NEW', 'BAGS']),\n",
       " (<sigtools.sounds.SoundLoader at 0x7f06244fb748>,\n",
       "  13,\n",
       "  ['SUE', 'SAW', 'EIGHT', 'CHEAP', 'SOCKS']),\n",
       " (<sigtools.sounds.SoundLoader at 0x7f06244fb358>,\n",
       "  23,\n",
       "  ['SUE', 'SOLD', 'THREE', 'BIG', 'SOCKS']),\n",
       " (<sigtools.sounds.SoundLoader at 0x7f06244fb710>,\n",
       "  15,\n",
       "  ['SUE', 'TOOK', 'SIX', 'GREEN', 'PENS']),\n",
       " (<sigtools.sounds.SoundLoader at 0x7f06244fb7b8>,\n",
       "  17,\n",
       "  ['SUE', 'SOLD', 'TEN', 'GREEN', 'PENS'])]"
      ]
     },
     "execution_count": 6,
     "metadata": {},
     "output_type": "execute_result"
    }
   ],
   "source": [
    "sss[0]"
   ]
  },
  {
   "cell_type": "code",
   "execution_count": 7,
   "metadata": {},
   "outputs": [
    {
     "ename": "IndexError",
     "evalue": "list index out of range",
     "output_type": "error",
     "traceback": [
      "\u001b[0;31m---------------------------------------------------------------------------\u001b[0m",
      "\u001b[0;31mIndexError\u001b[0m                                Traceback (most recent call last)",
      "\u001b[0;32m<ipython-input-7-fac3ed1502c6>\u001b[0m in \u001b[0;36m<module>\u001b[0;34m\u001b[0m\n\u001b[0;32m----> 1\u001b[0;31m \u001b[0msss\u001b[0m\u001b[0;34m[\u001b[0m\u001b[0;36m1\u001b[0m\u001b[0;34m]\u001b[0m\u001b[0;34m\u001b[0m\u001b[0;34m\u001b[0m\u001b[0m\n\u001b[0m",
      "\u001b[0;31mIndexError\u001b[0m: list index out of range"
     ]
    }
   ],
   "source": [
    "sss[1]"
   ]
  }
 ],
 "metadata": {
  "kernelspec": {
   "display_name": "Python 3",
   "language": "python",
   "name": "python3"
  },
  "language_info": {
   "codemirror_mode": {
    "name": "ipython",
    "version": 3
   },
   "file_extension": ".py",
   "mimetype": "text/x-python",
   "name": "python",
   "nbconvert_exporter": "python",
   "pygments_lexer": "ipython3",
   "version": "3.6.12"
  }
 },
 "nbformat": 4,
 "nbformat_minor": 4
}
