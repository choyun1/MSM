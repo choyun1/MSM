{
 "cells": [
  {
   "cell_type": "code",
   "execution_count": 1,
   "metadata": {},
   "outputs": [
    {
     "name": "stdout",
     "output_type": "stream",
     "text": [
      "================================================================================\n",
      "|| MSM INITIALIZATION\n",
      "================================================================================\n",
      "Setting paths...\n",
      "Importing sigtools...\n",
      "Setting up sounddevice...\n",
      "Importing level adjustments...\n",
      "Setting eligible BUG words...\n",
      "Preparing to create long-term spectrum matched noise...\n",
      "Set values for tone pattern synthesis...\n",
      "Defining experimental conditions...\n",
      "Initialization complete!\n",
      "================================================================================\n"
     ]
    }
   ],
   "source": [
    "import sys\n",
    "import numpy as np\n",
    "import pandas as pd\n",
    "import matplotlib.pyplot as plt\n",
    "# import seaborn as sns\n",
    "# sns.set()\n",
    "from pathlib import Path\n",
    "\n",
    "sys.path.append(\"/home/acho/Sync/KiddLab/MSM/src\")\n",
    "from utils.stim_tools import *\n",
    "\n",
    "sys.path.append(\"/home/acho/Sync/Python/sigtools\")\n",
    "# from sigtools.representations import *\n",
    "# from sigtools.sounds import *\n",
    "# from sigtools.processing import *\n",
    "# from sigtools.spatialization import *"
   ]
  },
  {
   "cell_type": "markdown",
   "metadata": {},
   "source": [
    "# One static, one moving, no cue word"
   ]
  },
  {
   "cell_type": "markdown",
   "metadata": {},
   "source": [
    "# Speech-shaped noise masker/multiple maskers"
   ]
  },
  {
   "cell_type": "code",
   "execution_count": null,
   "metadata": {},
   "outputs": [],
   "source": [
    "talkers, sentences, snds = make_sentence(5, syntax_condition=\"random\")\n",
    "answer = sentences[0]\n",
    "snds = zeropad_sounds(snds)\n",
    "\n",
    "target_snd = snds[0]\n",
    "masker1_snd = snds[1]\n",
    "masker2_snd = snds[2]\n",
    "masker3_snd = snds[3]\n",
    "masker4_snd = snds[4]\n",
    "\n",
    "t_dur = len(target_snd)/target_snd.fs\n",
    "fs = target_snd.fs\n",
    "\n",
    "ssn_snd = ALL_WORDS_SPECT.to_Noise(t_dur, fs)\n",
    "ssn_env = ssn_snd.extract_envelope()\n",
    "ssn_tfs = ssn_snd/ssn_env\n",
    "\n",
    "masker1_env = masker1_snd.extract_envelope()\n",
    "masker2_env = masker2_snd.extract_envelope()\n",
    "masker3_env = masker3_snd.extract_envelope()\n",
    "masker4_env = masker4_snd.extract_envelope()\n",
    "\n",
    "# smssn1_snd = normalize_rms([masker1_env*ssn_tfs])[0]\n",
    "# smssn2_snd = normalize_rms([masker2_env*ssn_tfs])[0]\n",
    "\n",
    "smssn1_snd = normalize_rms([masker1_snd])[0]\n",
    "smssn2_snd = normalize_rms([masker2_snd])[0]\n",
    "smssn3_snd = normalize_rms([masker3_snd])[0]\n",
    "smssn4_snd = normalize_rms([masker4_snd])[0]\n",
    "\n",
    "target_snd = target_snd.make_binaural()\n",
    "smssn1_snd = smssn1_snd.make_binaural()\n",
    "smssn2_snd = smssn2_snd.make_binaural()\n",
    "smssn3_snd = smssn3_snd.make_binaural()\n",
    "smssn4_snd = smssn4_snd.make_binaural()\n",
    "\n",
    "target_f = 0.\n",
    "smssn1_f = 0.5\n",
    "smssn2_f = 0.5\n",
    "smssn3_f = 0.5\n",
    "smssn4_f = 0.5\n",
    "target_trj = make_circular_sinuisoidal_trajectory(2, t_dur, 100, 0, target_f,\n",
    "                                                  180*(np.random.random() - 0.5),\n",
    "                                                  np.random.choice([True, False]))\n",
    "smssn1_trj = make_circular_sinuisoidal_trajectory(2, t_dur, 100, 0, smssn1_f,\n",
    "                                                  180*(np.random.random() - 0.5),\n",
    "                                                  np.random.choice([True, False]))\n",
    "smssn2_trj = make_circular_sinuisoidal_trajectory(2, t_dur, 100, 0, smssn2_f,\n",
    "                                                  180*(np.random.random() - 0.5),\n",
    "                                                  np.random.choice([True, False]))\n",
    "smssn3_trj = make_circular_sinuisoidal_trajectory(2, t_dur, 100, 0, smssn3_f,\n",
    "                                                  180*(np.random.random() - 0.5),\n",
    "                                                  np.random.choice([True, False]))\n",
    "smssn4_trj = make_circular_sinuisoidal_trajectory(2, t_dur, 100, 0, smssn4_f,\n",
    "                                                  180*(np.random.random() - 0.5),\n",
    "                                                  np.random.choice([True, False]))\n",
    "\n",
    "moved_target = move_sound(target_trj, target_snd) - 30\n",
    "moved_smssn1 = move_sound(smssn1_trj, smssn1_snd) - 30\n",
    "moved_smssn2 = move_sound(smssn2_trj, smssn2_snd) - 30\n",
    "moved_smssn3 = move_sound(smssn3_trj, smssn3_snd) - 30\n",
    "moved_smssn4 = move_sound(smssn4_trj, smssn4_snd) - 30\n",
    "\n",
    "# summed = moved_target + moved_smssn1 + moved_smssn2 + moved_smssn3 + moved_smssn4\n",
    "summed = moved_target + moved_smssn1 + moved_smssn2\n",
    "\n",
    "# fig, axes = plt.subplots(1, 3, figsize=(15, 3))\n",
    "# axes[0].plot(moved_target.data, alpha=0.5)\n",
    "# axes[1].plot(moved_smssn1.data, alpha=0.5)\n",
    "# axes[2].plot(moved_smssn2.data, alpha=0.5)\n",
    "# plt.show()\n",
    "\n",
    "summed.play()\n",
    "print(answer)"
   ]
  },
  {
   "cell_type": "code",
   "execution_count": null,
   "metadata": {},
   "outputs": [],
   "source": [
    "summed.play()\n",
    "print(answer)"
   ]
  },
  {
   "cell_type": "markdown",
   "metadata": {},
   "source": [
    "# Difference between RMS and mean of abs"
   ]
  },
  {
   "cell_type": "code",
   "execution_count": null,
   "metadata": {},
   "outputs": [],
   "source": [
    "x1 = np.linspace(0, 100*2*pi, 10000) + 2*np.pi*np.random.rand()\n",
    "# x2 = x1 - np.pi\n",
    "x2 = 100*x1 + 2*np.pi*np.random.rand()\n",
    "\n",
    "y1 = 90*np.sin(x1)\n",
    "y2 = 90*np.sin(x2)\n",
    "y3 = y1 - y2\n",
    "\n",
    "print(RMS(y3) - np.mean(np.abs(y3)))\n",
    "\n",
    "plt.plot(np.abs(y3))\n",
    "plt.show()"
   ]
  },
  {
   "cell_type": "code",
   "execution_count": null,
   "metadata": {},
   "outputs": [],
   "source": [
    "_ = plt.hist(np.abs(y3), bins=100)"
   ]
  },
  {
   "cell_type": "markdown",
   "metadata": {},
   "source": [
    "# Trajectory simulations"
   ]
  },
  {
   "cell_type": "code",
   "execution_count": null,
   "metadata": {},
   "outputs": [],
   "source": [
    "from scipy.interpolate import interp1d\n",
    "\n",
    "T = 10\n",
    "rate1 = 2\n",
    "rate2 = 2\n",
    "\n",
    "# 90 degrees out of phase\n",
    "angle1 = 180*(np.random.rand() - 0.5)\n",
    "dir1_R = np.random.choice([True, False])\n",
    "if angle1 >= 0 and dir1_R: #RR\n",
    "    angle2 = angle1 - 90\n",
    "    dir2_R = dir1_R\n",
    "elif angle1 < 0 and dir1_R: #RL\n",
    "    angle2 = -(angle1 + 90)\n",
    "    dir2_R = not dir1_R\n",
    "elif angle1 < 0 and not dir1_R: #LR\n",
    "    angle2 = angle1 + 90\n",
    "    dir2_R = dir1_R\n",
    "else: #LR\n",
    "    angle2 = 90 - angle1\n",
    "    dir2_R = not dir1_R\n",
    "\n",
    "# angle1 = 13.3\n",
    "# # angle1 = 90*np.random.choice([-1, 1])\n",
    "# # angle1 = 180*(np.random.rand() - 0.5)\n",
    "# angle2 = angle1 + 90\n",
    "# # angle2 = -angle1\n",
    "# # angle2 = 180*(np.random.rand() - 0.5)\n",
    "# # dir1_R = True\n",
    "# dir1_R = np.random.choice([True, False])\n",
    "# dir2_R = dir1_R\n",
    "# # dir2_R = np.random.choice([True, False])\n",
    "\n",
    "traj1 = make_circular_sinuisoidal_trajectory(2, T, 100, 0, rate1, angle1, dir1_R)\n",
    "traj2 = make_circular_sinuisoidal_trajectory(2, T, 100, 0, rate2, angle2, dir2_R)\n",
    "theta1 = traj_to_theta(traj1)\n",
    "theta2 = traj_to_theta(traj2)\n",
    "N1 = len(theta1)\n",
    "N2 = len(theta2)\n",
    "\n",
    "if N2 > N1:\n",
    "    x = np.arange(N1)\n",
    "    y = theta1\n",
    "    f = interp1d(x, y)\n",
    "    x_new = np.linspace(0, x[-1], N2)\n",
    "    theta1 = f(x_new)\n",
    "else:\n",
    "    x = np.arange(N2)\n",
    "    y = theta2\n",
    "    f = interp1d(x, y)\n",
    "    x_new = np.linspace(0, x[-1], N1)\n",
    "    theta2 = f(x_new)\n",
    "\n",
    "# print(RMS(theta1))\n",
    "# print(RMS(theta2))\n",
    "print(angle1, angle2)\n",
    "print(dir1_R, dir2_R)\n",
    "print(np.mean(np.abs(theta1 - theta2)))\n",
    "print(RMS(theta1 - theta2))\n",
    "\n",
    "plt.plot(theta1[0:400])\n",
    "plt.plot(theta2[0:400])\n",
    "# plt.plot(theta1 - theta2)\n",
    "plt.show()"
   ]
  },
  {
   "cell_type": "markdown",
   "metadata": {},
   "source": [
    "# Generate figures to validate synthesis/also check RMS value after moving"
   ]
  },
  {
   "cell_type": "code",
   "execution_count": null,
   "metadata": {},
   "outputs": [],
   "source": [
    "def woodworth(theta):\n",
    "    rads = 2*np.pi*theta/360\n",
    "    a = 87.5e-3\n",
    "    c = 343\n",
    "    return_vals = np.arange(len(rads))\n",
    "    for i, rad in enumerate(rads):\n",
    "        if rad >= 0 and rad <= np.pi/2:\n",
    "            return_vals[i] = a/c*(rad + np.sin(rad))\n",
    "        elif rad >= np.pi/2 and rad <= np.pi:\n",
    "            return_vals[i] =  a/c*(np.pi - rad + np.sin(rad))\n",
    "        elif rad <= 0 and rad >= -np.pi/2:\n",
    "            rad = np.abs(rad)\n",
    "            return_vals[i] = -a/c*(rad + np.sin(rad))\n",
    "        elif rad <= -np.pi/2 and rad >= -np.pi:\n",
    "            return_vals[i] = -a/c*(np.pi - rads + np.sin(rad))\n",
    "        else:\n",
    "            raise ValueError(\"invalid theta\")\n",
    "    return return_vals"
   ]
  },
  {
   "cell_type": "code",
   "execution_count": null,
   "metadata": {},
   "outputs": [],
   "source": [
    "T = 1\n",
    "fs = 44100\n",
    "gn1 = GaussianNoise(T, 44100).make_binaural()\n",
    "gn2 = GaussianNoise(T, 44100).make_binaural()\n",
    "\n",
    "r = 100\n",
    "rate1 = 1\n",
    "rate2 = 10\n",
    "init_angle1 = 0\n",
    "init_angle2 = 0\n",
    "init_R = True\n",
    "traj1 = make_circular_sinuisoidal_trajectory(2, T, r, 0, rate1, init_angle1, init_R)\n",
    "traj2 = make_circular_sinuisoidal_trajectory(2, T, r, 0, rate2, init_angle2, init_R)\n",
    "thetas1 = traj_to_theta(traj1)\n",
    "thetas2 = traj_to_theta(traj2)\n",
    "\n",
    "moved_gn1 = move_sound(traj1, gn1)\n",
    "moved_gn2 = move_sound(traj2, gn2)"
   ]
  },
  {
   "cell_type": "code",
   "execution_count": null,
   "metadata": {},
   "outputs": [],
   "source": [
    "print(RMS(moved_gn1.data))\n",
    "print(RMS(moved_gn1.data[:, 0]))\n",
    "print(RMS(moved_gn1.data[:, 1]))\n",
    "plt.plot(moved_gn1.data)\n",
    "plt.show()"
   ]
  },
  {
   "cell_type": "code",
   "execution_count": null,
   "metadata": {},
   "outputs": [],
   "source": [
    "print(RMS(moved_gn2.data))\n",
    "print(RMS(moved_gn2.data[:, 0]))\n",
    "print(RMS(moved_gn2.data[:, 1]))\n",
    "plt.plot(moved_gn2.data)\n",
    "plt.show()"
   ]
  },
  {
   "cell_type": "code",
   "execution_count": null,
   "metadata": {},
   "outputs": [],
   "source": [
    "print(RMS( (moved_gn1 + moved_gn2).data ))\n",
    "print(RMS( (moved_gn1.data + moved_gn2.data)[:, 0] ))\n",
    "print(RMS( (moved_gn1.data + moved_gn2.data)[:, 1] ))\n",
    "plt.plot(moved_gn1.data + moved_gn2.data)\n",
    "plt.show()"
   ]
  },
  {
   "cell_type": "markdown",
   "metadata": {},
   "source": [
    "Plot ITD and ILD cues for -90 to +90 trajectory to show nonlinearity:"
   ]
  },
  {
   "cell_type": "code",
   "execution_count": null,
   "metadata": {},
   "outputs": [],
   "source": [
    "iac_dur = 5e-3 # Analysis window = 5 ms\n",
    "iac = InterauralCues(moved_gn2, iac_dur)\n",
    "ILDs = iac.ILDs\n",
    "ITDs = iac.ITDs\n",
    "ILDs[-1] = 0\n",
    "ITDs[np.where(np.abs(ITDs) > 1e-3)[0]] = 0\n",
    "\n",
    "# ILDs = ILDs[:-1]\n",
    "# ITDs = 1e6*ITDs[:-1]\n",
    "ITDs = 1e6*ITDs\n",
    "\n",
    "a = 87.5e-3\n",
    "c = 343\n",
    "rads2 = 2*np.pi*thetas2/360\n",
    "woodworth2 = 1e6*a/c*(rads2 + np.sin(rads2))"
   ]
  },
  {
   "cell_type": "code",
   "execution_count": null,
   "metadata": {},
   "outputs": [],
   "source": [
    "fig, axes = plt.subplots(3, 1, figsize=(6, 4), constrained_layout=True)\n",
    "axes[0].plot(thetas2, \"k-\", alpha=0.8)\n",
    "axes[1].plot(ILDs, \"k-\", alpha=0.8)\n",
    "axes[2].plot(ITDs, \"k-\", alpha=0.8)\n",
    "# axes[2].plot(np.linspace(0, len(ITDs), len(woodworth2)), woodworth2, \"k--\", alpha=0.5)\n",
    "\n",
    "axes[0].set_xlim((0, len(thetas2)))\n",
    "axes[1].set_xlim((0, len(ILDs)))\n",
    "axes[2].set_xlim((0, len(ITDs)))\n",
    "\n",
    "axes[0].set_xticks([round(i*len(thetas2)/5) for i in range(6)])\n",
    "axes[1].set_xticks([round(i*len(ITDs)/5) for i in range(6)])\n",
    "axes[2].set_xticks([round(i*len(ILDs)/5) for i in range(6)])\n",
    "\n",
    "axes[0].set_xticklabels([])\n",
    "axes[1].set_xticklabels([])\n",
    "axes[2].set_xticklabels([\"{:.1f}\".format(i) for i in np.arange(0, T + 0.01, 0.2)], fontsize=10)\n",
    "\n",
    "axes[2].set_xlabel(\"Time [s]\", fontsize=14)\n",
    "\n",
    "axes[0].set_yticks(np.arange(-90, 91, 45))\n",
    "axes[1].set_yticks(np.arange(-20, 21, 10))\n",
    "axes[2].set_yticks(np.arange(-800, 801, 400))\n",
    "\n",
    "axes[0].set_yticklabels(np.arange(-90, 91, 45), fontsize=10)\n",
    "axes[1].set_yticklabels(np.arange(-20, 21, 10), fontsize=10)\n",
    "axes[2].set_yticklabels(np.arange(-800, 801, 400), fontsize=10)\n",
    "\n",
    "axes[0].set_ylim((-90, 90))\n",
    "axes[1].set_ylim((-22, 22))\n",
    "axes[2].set_ylim((-800, 800))\n",
    "\n",
    "axes[0].set_ylabel(r\"$\\theta$\", fontsize=14)\n",
    "axes[1].set_ylabel(\"ILD [dB]\", fontsize=14)\n",
    "axes[2].set_ylabel(\"ITD [$\\mu$s]\", fontsize=14)\n",
    "\n",
    "axes[0].grid(linestyle=\":\")\n",
    "axes[1].grid(linestyle=\":\")\n",
    "axes[2].grid(linestyle=\":\")\n",
    "\n",
    "# axes[0].set_title(r\"\\textbf{Trajectory validation}\", fontsize=20)\n",
    "\n",
    "plt.show()\n",
    "# fig.savefig(\"validate_synthesis.pdf\")"
   ]
  },
  {
   "cell_type": "markdown",
   "metadata": {},
   "source": [
    "# Load synthesized stimuli to verify levels"
   ]
  },
  {
   "cell_type": "code",
   "execution_count": null,
   "metadata": {},
   "outputs": [],
   "source": [
    "curr_stim_dir = PROJ_DIR/\"archive\"/\"pilot_v5\"/\"stimuli\"\n",
    "curr_stim_EV = SoundLoader(curr_stim_dir/\"stim_00272.wav\")\n",
    "curr_stim_DV = SoundLoader(curr_stim_dir/\"stim_00647.wav\")\n",
    "\n",
    "fig, axes = plt.subplots(1, 2, figsize=(10, 6))\n",
    "axes[0].plot(curr_stim_EV.data)\n",
    "axes[1].plot(curr_stim_DV.data)\n",
    "\n",
    "axes[0].set_ylim((-0.05, 0.05))\n",
    "axes[1].set_ylim((-0.05, 0.05))\n",
    "plt.show()"
   ]
  },
  {
   "cell_type": "markdown",
   "metadata": {},
   "source": [
    "# This shows that level is NOT NORMALIZED after converting from spectrum to noise for SSN (as of 02/08/21)"
   ]
  },
  {
   "cell_type": "code",
   "execution_count": null,
   "metadata": {},
   "outputs": [],
   "source": [
    "test_noise = ALL_WORDS_SPECT.to_Noise(2, 44100)\n",
    "print(RMS(test_noise.data))\n",
    "\n",
    "plt.plot(test_noise.data)\n",
    "plt.show()"
   ]
  },
  {
   "cell_type": "markdown",
   "metadata": {},
   "source": [
    "# Verify level is normalized after movement"
   ]
  },
  {
   "cell_type": "code",
   "execution_count": null,
   "metadata": {},
   "outputs": [],
   "source": [
    "snd1 = GaussianNoise(2, 44100)\n",
    "snd2 = GaussianNoise(1, 44100)\n",
    "\n",
    "print(RMS(snd1.data))\n",
    "print(RMS(snd2.data))\n",
    "print(RMS(concat_sounds([snd1, snd2]).data))\n",
    "\n",
    "# snd1.play()\n",
    "\n",
    "TMR = -12\n",
    "atten_snd1 = snd1 + TMR\n",
    "\n",
    "# atten_snd1.play()"
   ]
  },
  {
   "cell_type": "code",
   "execution_count": null,
   "metadata": {},
   "outputs": [],
   "source": [
    "traj = make_circular_sinuisoidal_trajectory(\\\n",
    "                     2, 2, 100, 0,\n",
    "                     1, -20, True)\n",
    "\n",
    "print(\"TMR:\\t{:2.1f} dB\".format(TMR))\n",
    "print(\"orig:\\t{:2.1f} dB\".format(20*np.log10(RMS(snd1.data))))\n",
    "print(\"atten:\\t{:2.1f} dB\".format(20*np.log10(RMS(atten_snd1.data))))\n",
    "\n",
    "moved_snd1 = move_sound(traj, snd1.make_binaural())\n",
    "moved_atten_snd1 = move_sound(traj, atten_snd1.make_binaural())\n",
    "\n",
    "atten_moved_snd1 = moved_snd1 + TMR\n",
    "\n",
    "print(\"\\nmoved:\\t\\t\\t{:2.1f} dB\".format(20*np.log10(RMS(moved_snd1.data))))\n",
    "print(\"attenuate then move:\\t{:2.1f} dB\".format(20*np.log10(RMS(moved_atten_snd1.data))))\n",
    "print(\"move then attenuate:\\t{:2.1f} dB\".format(20*np.log10(RMS(atten_moved_snd1.data))))\n",
    "\n",
    "fig, axes = plt.subplots(1, 2, figsize=(10, 6))\n",
    "axes[0].plot(moved_atten_snd1.data)\n",
    "axes[1].plot(atten_moved_snd1.data)\n",
    "axes[0].set_ylim((-10, 10))\n",
    "axes[1].set_ylim((-10, 10))\n",
    "plt.show()"
   ]
  }
 ],
 "metadata": {
  "kernelspec": {
   "display_name": "Python 3",
   "language": "python",
   "name": "python3"
  },
  "language_info": {
   "codemirror_mode": {
    "name": "ipython",
    "version": 3
   },
   "file_extension": ".py",
   "mimetype": "text/x-python",
   "name": "python",
   "nbconvert_exporter": "python",
   "pygments_lexer": "ipython3",
   "version": "3.6.13"
  }
 },
 "nbformat": 4,
 "nbformat_minor": 4
}
