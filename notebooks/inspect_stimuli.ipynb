{
 "cells": [
  {
   "cell_type": "code",
   "execution_count": null,
   "metadata": {},
   "outputs": [],
   "source": [
    "import sys\n",
    "import numpy as np\n",
    "import pandas as pd\n",
    "import matplotlib.pyplot as plt\n",
    "import seaborn as sns\n",
    "sns.set()\n",
    "from pathlib import Path\n",
    "\n",
    "sys.path.append(\"/home/acho/Sync/KiddLab/MSM/src\")\n",
    "from utils.stim_tools import *\n",
    "\n",
    "sys.path.append(\"/home/acho/Sync/Python/sigtools\")\n",
    "from sigtools.representations import *\n",
    "# from sigtools.sounds import *\n",
    "# from sigtools.processing import *\n",
    "# from sigtools.spatialization import *"
   ]
  },
  {
   "cell_type": "code",
   "execution_count": null,
   "metadata": {},
   "outputs": [],
   "source": [
    "PROJ_DIR = Path.home()/\"Sync\"/\"KiddLab\"/\"MSM\"\n",
    "STIM_DIR = PROJ_DIR/\"assets\"/\"stimuli\"\n",
    "STIM_DATABASE = pd.read_csv(STIM_DIR/\"stimulus_database.csv\")"
   ]
  },
  {
   "cell_type": "code",
   "execution_count": null,
   "metadata": {},
   "outputs": [],
   "source": [
    "fs = 16000\n",
    "r = 100\n",
    "elev = 0\n",
    "dur = 5\n",
    "res = 2"
   ]
  },
  {
   "cell_type": "code",
   "execution_count": null,
   "metadata": {},
   "outputs": [],
   "source": [
    "snd1 = GaussianNoise(dur, fs).make_binaural()\n",
    "snd1_traj = make_circular_sinuisoidal_trajectory(r, elev, 90, dur, 1, res, True)\n",
    "snd1_moving = move_sound(snd1_traj, snd1)\n",
    "\n",
    "snd2 = GaussianNoise(dur, fs).make_binaural()\n",
    "snd2_traj = make_circular_sinuisoidal_trajectory(r, elev, 90, dur, 2, res, True)\n",
    "snd2_moving = move_sound(snd2_traj, snd2)\n",
    "\n",
    "snd3 = GaussianNoise(dur, fs).make_binaural()\n",
    "snd3_traj = make_circular_sinuisoidal_trajectory(r, elev, 90, dur, 3, res, True)\n",
    "snd3_moving = move_sound(snd3_traj, snd3)\n",
    "\n",
    "snd4 = GaussianNoise(dur, fs).make_binaural()\n",
    "snd4_traj = make_circular_sinuisoidal_trajectory(r, elev, 90, dur, 4, res, True)\n",
    "snd4_moving = move_sound(snd4_traj, snd4)\n",
    "\n",
    "snd5 = GaussianNoise(dur, fs).make_binaural()\n",
    "snd5_traj = make_circular_sinuisoidal_trajectory(r, elev, 90, dur, 5, res, True)\n",
    "snd5_moving = move_sound(snd5_traj, snd5)\n",
    "\n",
    "snd6 = GaussianNoise(dur, fs).make_binaural()\n",
    "snd6_traj = make_circular_sinuisoidal_trajectory(r, elev, 90, dur, 6, res, True)\n",
    "snd6_moving = move_sound(snd6_traj, snd6)\n",
    "\n",
    "snd7 = GaussianNoise(dur, fs).make_binaural()\n",
    "snd7_traj = make_circular_sinuisoidal_trajectory(r, elev, 90, dur, 7, res, True)\n",
    "snd7_moving = move_sound(snd7_traj, snd7)\n",
    "\n",
    "snd8 = GaussianNoise(dur, fs).make_binaural()\n",
    "snd8_traj = make_circular_sinuisoidal_trajectory(r, elev, 90, dur, 8, res, True)\n",
    "snd8_moving = move_sound(snd8_traj, snd8)\n",
    "\n",
    "snd9 = GaussianNoise(dur, fs).make_binaural()\n",
    "snd9_traj = make_circular_sinuisoidal_trajectory(r, elev, 90, dur, 9, res, True)\n",
    "snd9_moving = move_sound(snd9_traj, snd9)\n",
    "\n",
    "snd10 = GaussianNoise(dur, fs).make_binaural()\n",
    "snd10_traj = make_circular_sinuisoidal_trajectory(r, elev, 90, dur, 10, res, True)\n",
    "snd10_moving = move_sound(snd10_traj, snd10)\n",
    "\n",
    "\n",
    "fig, axes = plt.subplots(11, 1, figsize=(14, 11))\n",
    "Waveform(GaussianNoise(dur, fs).make_binaural()).display(axes[0])\n",
    "Waveform(snd1_moving).display(axes[1])\n",
    "Waveform(snd2_moving).display(axes[2])\n",
    "Waveform(snd3_moving).display(axes[3])\n",
    "Waveform(snd4_moving).display(axes[4])\n",
    "Waveform(snd5_moving).display(axes[5])\n",
    "Waveform(snd6_moving).display(axes[6])\n",
    "Waveform(snd7_moving).display(axes[7])\n",
    "Waveform(snd8_moving).display(axes[8])\n",
    "Waveform(snd9_moving).display(axes[9])\n",
    "Waveform(snd10_moving).display(axes[10])\n",
    "plt.show()"
   ]
  }
 ],
 "metadata": {
  "kernelspec": {
   "display_name": "Python 3",
   "language": "python",
   "name": "python3"
  },
  "language_info": {
   "codemirror_mode": {
    "name": "ipython",
    "version": 3
   },
   "file_extension": ".py",
   "mimetype": "text/x-python",
   "name": "python",
   "nbconvert_exporter": "python",
   "pygments_lexer": "ipython3",
   "version": "3.6.11"
  }
 },
 "nbformat": 4,
 "nbformat_minor": 4
}
