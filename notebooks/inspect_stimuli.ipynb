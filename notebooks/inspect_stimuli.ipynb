{
 "cells": [
  {
   "cell_type": "code",
   "execution_count": null,
   "metadata": {},
   "outputs": [],
   "source": [
    "import sys\n",
    "import numpy as np\n",
    "import pandas as pd\n",
    "import matplotlib.pyplot as plt\n",
    "# import seaborn as sns\n",
    "# sns.set()\n",
    "from pathlib import Path\n",
    "\n",
    "sys.path.append(\"/home/acho/Sync/KiddLab/MSM/src\")\n",
    "from utils.stim_tools import *\n",
    "\n",
    "sys.path.append(\"/home/acho/Sync/Python/sigtools\")\n",
    "# from sigtools.representations import *\n",
    "# from sigtools.sounds import *\n",
    "# from sigtools.processing import *\n",
    "# from sigtools.spatialization import *"
   ]
  },
  {
   "cell_type": "markdown",
   "metadata": {},
   "source": [
    "# Difference between RMS and mean of abs"
   ]
  },
  {
   "cell_type": "code",
   "execution_count": null,
   "metadata": {},
   "outputs": [],
   "source": [
    "x1 = np.linspace(0, 100*2*pi, 10000) + 2*np.pi*np.random.rand()\n",
    "# x2 = x1 - np.pi\n",
    "x2 = 100*x1 + 2*np.pi*np.random.rand()\n",
    "\n",
    "y1 = 90*np.sin(x1)\n",
    "y2 = 90*np.sin(x2)\n",
    "y3 = y1 - y2\n",
    "\n",
    "print(RMS(y3) - np.mean(np.abs(y3)))\n",
    "\n",
    "plt.plot(np.abs(y3))\n",
    "plt.show()"
   ]
  },
  {
   "cell_type": "code",
   "execution_count": null,
   "metadata": {},
   "outputs": [],
   "source": [
    "_ = plt.hist(np.abs(y3), bins=100)"
   ]
  },
  {
   "cell_type": "markdown",
   "metadata": {},
   "source": [
    "# Trajectory simulations"
   ]
  },
  {
   "cell_type": "code",
   "execution_count": null,
   "metadata": {},
   "outputs": [],
   "source": [
    "from scipy.interpolate import interp1d\n",
    "\n",
    "T = 10\n",
    "rate1 = 2\n",
    "rate2 = 2\n",
    "\n",
    "# 90 degrees out of phase\n",
    "angle1 = 180*(np.random.rand() - 0.5)\n",
    "dir1_R = np.random.choice([True, False])\n",
    "if angle1 >= 0 and dir1_R: #RR\n",
    "    angle2 = angle1 - 90\n",
    "    dir2_R = dir1_R\n",
    "elif angle1 < 0 and dir1_R: #RL\n",
    "    angle2 = -(angle1 + 90)\n",
    "    dir2_R = not dir1_R\n",
    "elif angle1 < 0 and not dir1_R: #LR\n",
    "    angle2 = angle1 + 90\n",
    "    dir2_R = dir1_R\n",
    "else: #LR\n",
    "    angle2 = 90 - angle1\n",
    "    dir2_R = not dir1_R\n",
    "\n",
    "# angle1 = 13.3\n",
    "# # angle1 = 90*np.random.choice([-1, 1])\n",
    "# # angle1 = 180*(np.random.rand() - 0.5)\n",
    "# angle2 = angle1 + 90\n",
    "# # angle2 = -angle1\n",
    "# # angle2 = 180*(np.random.rand() - 0.5)\n",
    "# # dir1_R = True\n",
    "# dir1_R = np.random.choice([True, False])\n",
    "# dir2_R = dir1_R\n",
    "# # dir2_R = np.random.choice([True, False])\n",
    "\n",
    "traj1 = make_circular_sinuisoidal_trajectory(2, T, 100, 0, rate1, angle1, dir1_R)\n",
    "traj2 = make_circular_sinuisoidal_trajectory(2, T, 100, 0, rate2, angle2, dir2_R)\n",
    "theta1 = traj_to_theta(traj1)\n",
    "theta2 = traj_to_theta(traj2)\n",
    "N1 = len(theta1)\n",
    "N2 = len(theta2)\n",
    "\n",
    "if N2 > N1:\n",
    "    x = np.arange(N1)\n",
    "    y = theta1\n",
    "    f = interp1d(x, y)\n",
    "    x_new = np.linspace(0, x[-1], N2)\n",
    "    theta1 = f(x_new)\n",
    "else:\n",
    "    x = np.arange(N2)\n",
    "    y = theta2\n",
    "    f = interp1d(x, y)\n",
    "    x_new = np.linspace(0, x[-1], N1)\n",
    "    theta2 = f(x_new)\n",
    "\n",
    "# print(RMS(theta1))\n",
    "# print(RMS(theta2))\n",
    "print(angle1, angle2)\n",
    "print(dir1_R, dir2_R)\n",
    "print(np.mean(np.abs(theta1 - theta2)))\n",
    "print(RMS(theta1 - theta2))\n",
    "\n",
    "plt.plot(theta1[0:400])\n",
    "plt.plot(theta2[0:400])\n",
    "# plt.plot(theta1 - theta2)\n",
    "plt.show()"
   ]
  },
  {
   "cell_type": "markdown",
   "metadata": {},
   "source": [
    "# Generate figures to validate synthesis/also check RMS value after moving"
   ]
  },
  {
   "cell_type": "code",
   "execution_count": null,
   "metadata": {},
   "outputs": [],
   "source": [
    "def woodworth(theta):\n",
    "    rads = 2*np.pi*theta/360\n",
    "    a = 87.5e-3\n",
    "    c = 343\n",
    "    return_vals = np.arange(len(rads))\n",
    "    for i, rad in enumerate(rads):\n",
    "        if rad >= 0 and rad <= np.pi/2:\n",
    "            return_vals[i] = a/c*(rad + np.sin(rad))\n",
    "        elif rad >= np.pi/2 and rad <= np.pi:\n",
    "            return_vals[i] =  a/c*(np.pi - rad + np.sin(rad))\n",
    "        elif rad <= 0 and rad >= -np.pi/2:\n",
    "            rad = np.abs(rad)\n",
    "            return_vals[i] = -a/c*(rad + np.sin(rad))\n",
    "        elif rad <= -np.pi/2 and rad >= -np.pi:\n",
    "            return_vals[i] = -a/c*(np.pi - rads + np.sin(rad))\n",
    "        else:\n",
    "            raise ValueError(\"invalid theta\")\n",
    "    return return_vals"
   ]
  },
  {
   "cell_type": "code",
   "execution_count": null,
   "metadata": {},
   "outputs": [],
   "source": [
    "T = 1\n",
    "fs = 44100\n",
    "gn1 = GaussianNoise(T, 44100).make_binaural()\n",
    "gn2 = GaussianNoise(T, 44100).make_binaural()\n",
    "\n",
    "r = 100\n",
    "rate1 = 1\n",
    "rate2 = 10\n",
    "init_angle1 = 0\n",
    "init_angle2 = 0\n",
    "init_R = True\n",
    "traj1 = make_circular_sinuisoidal_trajectory(2, T, r, 0, rate1, init_angle1, init_R)\n",
    "traj2 = make_circular_sinuisoidal_trajectory(2, T, r, 0, rate2, init_angle2, init_R)\n",
    "thetas1 = traj_to_theta(traj1)\n",
    "thetas2 = traj_to_theta(traj2)\n",
    "\n",
    "moved_gn1 = move_sound(traj1, gn1)\n",
    "moved_gn2 = move_sound(traj2, gn2)"
   ]
  },
  {
   "cell_type": "code",
   "execution_count": null,
   "metadata": {},
   "outputs": [],
   "source": [
    "print(RMS(moved_gn1.data))\n",
    "print(RMS(moved_gn1.data[:, 0]))\n",
    "print(RMS(moved_gn1.data[:, 1]))\n",
    "plt.plot(moved_gn1.data)\n",
    "plt.show()"
   ]
  },
  {
   "cell_type": "code",
   "execution_count": null,
   "metadata": {},
   "outputs": [],
   "source": [
    "print(RMS(moved_gn2.data))\n",
    "print(RMS(moved_gn2.data[:, 0]))\n",
    "print(RMS(moved_gn2.data[:, 1]))\n",
    "plt.plot(moved_gn2.data)\n",
    "plt.show()"
   ]
  },
  {
   "cell_type": "code",
   "execution_count": null,
   "metadata": {},
   "outputs": [],
   "source": [
    "print(RMS( (moved_gn1 + moved_gn2).data ))\n",
    "print(RMS( (moved_gn1.data + moved_gn2.data)[:, 0] ))\n",
    "print(RMS( (moved_gn1.data + moved_gn2.data)[:, 1] ))\n",
    "plt.plot(moved_gn1.data + moved_gn2.data)\n",
    "plt.show()"
   ]
  },
  {
   "cell_type": "code",
   "execution_count": null,
   "metadata": {},
   "outputs": [],
   "source": []
  },
  {
   "cell_type": "code",
   "execution_count": null,
   "metadata": {},
   "outputs": [],
   "source": [
    "iac_dur = 5e-3 # Analysis window = 5 ms\n",
    "iac = InterauralCues(moved_gn2, iac_dur)\n",
    "ILDs = iac.ILDs\n",
    "ITDs = iac.ITDs\n",
    "ILDs[-1] = 0\n",
    "ITDs[np.where(np.abs(ITDs) > 1e-3)[0]] = 0\n",
    "\n",
    "# ILDs = ILDs[:-1]\n",
    "# ITDs = 1e6*ITDs[:-1]\n",
    "ITDs = 1e6*ITDs\n",
    "\n",
    "a = 87.5e-3\n",
    "c = 343\n",
    "rads2 = 2*np.pi*thetas2/360\n",
    "woodworth2 = 1e6*a/c*(rads2 + np.sin(rads2))"
   ]
  },
  {
   "cell_type": "code",
   "execution_count": null,
   "metadata": {},
   "outputs": [],
   "source": [
    "fig, axes = plt.subplots(3, 1, figsize=(6, 4), constrained_layout=True)\n",
    "axes[0].plot(thetas2, \"k-\", alpha=0.8)\n",
    "axes[1].plot(ILDs, \"k-\", alpha=0.8)\n",
    "axes[2].plot(ITDs, \"k-\", alpha=0.8)\n",
    "# axes[2].plot(np.linspace(0, len(ITDs), len(woodworth2)), woodworth2, \"k--\", alpha=0.5)\n",
    "\n",
    "axes[0].set_xlim((0, len(thetas2)))\n",
    "axes[1].set_xlim((0, len(ILDs)))\n",
    "axes[2].set_xlim((0, len(ITDs)))\n",
    "\n",
    "axes[0].set_xticks([round(i*len(thetas2)/5) for i in range(6)])\n",
    "axes[1].set_xticks([round(i*len(ITDs)/5) for i in range(6)])\n",
    "axes[2].set_xticks([round(i*len(ILDs)/5) for i in range(6)])\n",
    "\n",
    "axes[0].set_xticklabels([])\n",
    "axes[1].set_xticklabels([])\n",
    "axes[2].set_xticklabels([\"{:.1f}\".format(i) for i in np.arange(0, T + 0.01, 0.2)], fontsize=10)\n",
    "\n",
    "axes[2].set_xlabel(\"Time [s]\", fontsize=14)\n",
    "\n",
    "axes[0].set_yticks(np.arange(-90, 91, 45))\n",
    "axes[1].set_yticks(np.arange(-20, 21, 10))\n",
    "axes[2].set_yticks(np.arange(-800, 801, 400))\n",
    "\n",
    "axes[0].set_yticklabels(np.arange(-90, 91, 45), fontsize=10)\n",
    "axes[1].set_yticklabels(np.arange(-20, 21, 10), fontsize=10)\n",
    "axes[2].set_yticklabels(np.arange(-800, 801, 400), fontsize=10)\n",
    "\n",
    "axes[0].set_ylim((-90, 90))\n",
    "axes[1].set_ylim((-22, 22))\n",
    "axes[2].set_ylim((-800, 800))\n",
    "\n",
    "axes[0].set_ylabel(r\"$\\theta$\", fontsize=14)\n",
    "axes[1].set_ylabel(\"ILD [dB]\", fontsize=14)\n",
    "axes[2].set_ylabel(\"ITD [$\\mu$s]\", fontsize=14)\n",
    "\n",
    "axes[0].grid(linestyle=\":\")\n",
    "axes[1].grid(linestyle=\":\")\n",
    "axes[2].grid(linestyle=\":\")\n",
    "\n",
    "# axes[0].set_title(r\"\\textbf{Trajectory validation}\", fontsize=20)\n",
    "\n",
    "plt.show()\n",
    "# fig.savefig(\"validate_synthesis.pdf\")"
   ]
  }
 ],
 "metadata": {
  "kernelspec": {
   "display_name": "Python 3",
   "language": "python",
   "name": "python3"
  },
  "language_info": {
   "codemirror_mode": {
    "name": "ipython",
    "version": 3
   },
   "file_extension": ".py",
   "mimetype": "text/x-python",
   "name": "python",
   "nbconvert_exporter": "python",
   "pygments_lexer": "ipython3",
   "version": "3.6.12"
  }
 },
 "nbformat": 4,
 "nbformat_minor": 4
}
