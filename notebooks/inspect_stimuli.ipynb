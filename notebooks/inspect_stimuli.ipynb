{
 "cells": [
  {
   "cell_type": "code",
   "execution_count": null,
   "metadata": {},
   "outputs": [],
   "source": [
    "import sys\n",
    "import numpy as np\n",
    "import pandas as pd\n",
    "import matplotlib.pyplot as plt\n",
    "import seaborn as sns\n",
    "sns.set()\n",
    "from pathlib import Path\n",
    "\n",
    "sys.path.append(\"/home/acho/Sync/KiddLab/MSM/src\")\n",
    "from utils.stim_tools import *\n",
    "\n",
    "sys.path.append(\"/home/acho/Sync/Python/sigtools\")\n",
    "from sigtools.representations import *\n",
    "# from sigtools.sounds import *\n",
    "# from sigtools.processing import *\n",
    "# from sigtools.spatialization import *"
   ]
  },
  {
   "cell_type": "code",
   "execution_count": null,
   "metadata": {},
   "outputs": [],
   "source": [
    "subject_ID = \"AYC\"\n",
    "task_type = \"SIM\"\n",
    "n_srcs = 3\n",
    "conditions = [\"co-located\", \"plus_minus_90\", 0.5, 2, 4] # alt rate\n",
    "stim_database = pd.read_csv(STIM_DIR/\"stimulus_database.csv\")\n",
    "\n",
    "# Check that the specified conditions are in the stimulus database\n",
    "validate_parameters(stim_database, task_type, n_srcs, conditions)\n",
    "\n",
    "# Blocking parameters\n",
    "randomize_within_block = True\n",
    "n_blocks = 1                         # if randomized within block\n",
    "n_trials_per_block_per_condition = 5 # if randomized within block\n",
    "n_trials_per_block = None      # if NOT randomized within block\n",
    "n_blocks_per_condition = None  # if NOT randomized within block\n",
    "run_stim_order = set_stim_order(stim_database, task_type, n_srcs, conditions,\n",
    "                                n_blocks,\n",
    "                                n_trials_per_block_per_condition,\n",
    "                                n_trials_per_block,\n",
    "                                n_blocks_per_condition,\n",
    "                                randomize_within_block)"
   ]
  }
 ],
 "metadata": {
  "kernelspec": {
   "display_name": "Python 3",
   "language": "python",
   "name": "python3"
  },
  "language_info": {
   "codemirror_mode": {
    "name": "ipython",
    "version": 3
   },
   "file_extension": ".py",
   "mimetype": "text/x-python",
   "name": "python",
   "nbconvert_exporter": "python",
   "pygments_lexer": "ipython3",
   "version": "3.6.12"
  }
 },
 "nbformat": 4,
 "nbformat_minor": 4
}
