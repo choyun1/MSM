{
 "cells": [
  {
   "cell_type": "code",
   "execution_count": 1,
   "metadata": {},
   "outputs": [
    {
     "name": "stdout",
     "output_type": "stream",
     "text": [
      "================================================================================\n",
      "|| MSM INITIALIZATION\n",
      "================================================================================\n",
      "Setting paths...\n",
      "Importing sigtools...\n",
      "Setting up sounddevice...\n",
      "Importing level adjustments...\n",
      "Setting eligible BUG words...\n",
      "Set values for tone pattern synthesis...\n",
      "Initialization complete!\n",
      "================================================================================\n"
     ]
    }
   ],
   "source": [
    "import sys\n",
    "import numpy as np\n",
    "import pandas as pd\n",
    "import matplotlib.pyplot as plt\n",
    "import seaborn as sns\n",
    "sns.set()\n",
    "from pathlib import Path\n",
    "\n",
    "sys.path.append(\"/home/acho/Sync/KiddLab/MSM/src\")\n",
    "from utils.stim_tools import *\n",
    "\n",
    "sys.path.append(\"/home/acho/Sync/Python/sigtools\")\n",
    "from sigtools.representations import *\n",
    "# from sigtools.sounds import *\n",
    "# from sigtools.processing import *\n",
    "# from sigtools.spatialization import *"
   ]
  },
  {
   "cell_type": "code",
   "execution_count": 32,
   "metadata": {},
   "outputs": [],
   "source": [
    "from collections import namedtuple\n",
    "Condition = namedtuple(\"Condition\",\n",
    "                       \"stim_type target_alt_rate masker_alt_rate target_init_angle masker_init_angle\")\n",
    "stim_database = pd.read_csv(STIM_DIR/\"stimulus_database.csv\")\n",
    "\n",
    "EXPT_1_1_1 = [Condition(\"SEM\", 0.5, 0.5, None, None),\n",
    "              Condition(\"SEM\", 1. , 1. , None, None),\n",
    "              Condition(\"SEM\", 2. , 2. , None, None),\n",
    "              Condition(\"SEM\", 5. , 5. , None, None)]\n",
    "EXPT_1_1_2 = [Condition(\"SIM\", 0.5, 0.5, None, None),\n",
    "              Condition(\"SIM\", 1. , 1. , None, None),\n",
    "              Condition(\"SIM\", 2. , 2. , None, None),\n",
    "              Condition(\"SIM\", 5. , 5. , None, None)]\n",
    "EXPT_1_2_1 = [Condition(\"SEM\", 0. , 0.5,   0.,  90.),\n",
    "              Condition(\"SEM\", 0. , 1. ,   0.,  90.),\n",
    "              Condition(\"SEM\", 0. , 2. ,   0.,  90.),\n",
    "              Condition(\"SEM\", 0. , 5. ,   0.,  90.)]\n",
    "EXPT_1_2_2 = [Condition(\"SIM\", 0. , 0.5,   0.,  90.),\n",
    "              Condition(\"SIM\", 0. , 1. ,   0.,  90.),\n",
    "              Condition(\"SIM\", 0. , 2. ,   0.,  90.),\n",
    "              Condition(\"SIM\", 0. , 5. ,   0.,  90.)]\n",
    "EXPT_1_3_1 = [Condition(\"SEM\", 0.5, 0. ,  90.,   0.),\n",
    "              Condition(\"SEM\", 1. , 0. ,  90.,   0.),\n",
    "              Condition(\"SEM\", 2. , 0. ,  90.,   0.),\n",
    "              Condition(\"SEM\", 5. , 0. ,  90.,   0.)]\n",
    "EXPT_1_3_2 = [Condition(\"SIM\", 0.5, 0. ,  90.,   0.),\n",
    "              Condition(\"SIM\", 1. , 0. ,  90.,   0.),\n",
    "              Condition(\"SIM\", 2. , 0. ,  90.,   0.),\n",
    "              Condition(\"SIM\", 5. , 0. ,  90.,   0.)]\n",
    "EXPT_2_1_1 = [Condition(\"SEM\", 0.5, 5. , None, None),\n",
    "              Condition(\"SEM\", 5. , 0.5, None, None)]\n",
    "EXPT_2_1_2 = [Condition(\"SIM\", 0.5, 5. , None, None),\n",
    "              Condition(\"SIM\", 5. , 0.5, None, None)]"
   ]
  },
  {
   "cell_type": "code",
   "execution_count": 108,
   "metadata": {},
   "outputs": [],
   "source": [
    "def choose_stim_with_curr_cond(stim_database, all_block_list, cond, n_trials_per_block):\n",
    "    from functools import partial, reduce\n",
    "    inner_merge = partial(pd.merge, how=\"inner\")\n",
    "    flatten = lambda t: [item for sublist in t for item in sublist] # flattens list of lists in double loop\n",
    "    \n",
    "    # Choose the subset of the stimulus database that satisfies the current conditions\n",
    "    conditions = []\n",
    "    conditions.append(stim_database[(stim_database[\"stim_type\"] == cond.stim_type)])\n",
    "    conditions.append(stim_database[(stim_database[\"is_target\"] == True) &\n",
    "                                    (stim_database[\"alt_rate\"] == cond.target_alt_rate)])\n",
    "    conditions.append(stim_database[(stim_database[\"is_target\"] == False) &\n",
    "                                    (stim_database[\"alt_rate\"] == cond.masker_alt_rate)])\n",
    "    if cond.target_init_angle: # if initial angle is specified in conditions, it will be not None\n",
    "        conditions.append(stim_database[(stim_database[\"is_target\"] == True) &\n",
    "                                        (np.abs(stim_database[\"init_angle\"]) == cond.target_init_angle)])\n",
    "    if cond.masker_init_angle:\n",
    "        conditions.append(stim_database[(stim_database[\"is_target\"] == False) &\n",
    "                                        (np.abs(stim_database[\"init_angle\"]) == cond.masker_init_angle)])\n",
    "    subsets = [stim_database.loc[stim_database[\"stim_num\"].isin(cond[\"stim_num\"])] for cond in conditions]\n",
    "    conditioned_stim_database = reduce(inner_merge, subsets)\n",
    "\n",
    "    # Determine the available stimuli by removing already used stimuli \n",
    "    eligible_stim_num = conditioned_stim_database[\"stim_num\"].unique()\n",
    "    used_stim_num = [stim_tuple[1] for stim_tuple in flatten(all_block_list)]\n",
    "    available_stim_num = list(set(eligible_stim_num) - set(used_stim_num))\n",
    "    selected_stim_num = sorted(np.random.choice(available_stim_num, n_trials_per_block, replace=False))\n",
    "\n",
    "    # Load the stimuli as sounds and insert into block\n",
    "    srcs = [SoundLoader(STIM_DIR/(\"stim_\" + str(stim_num).zfill(5) + \".wav\"))\n",
    "            for stim_num in selected_stim_num]\n",
    "    patterns = [pattern for pattern in\n",
    "                stim_database.loc[(stim_database[\"stim_num\"].isin(selected_stim_num)) & \n",
    "                                  (stim_database[\"is_target\"])][\"pattern\"]]\n",
    "    stim_tuple = list(zip(srcs, selected_stim_num, patterns))\n",
    "    np.random.shuffle(stim_tuple)\n",
    "    return stim_tuple"
   ]
  },
  {
   "cell_type": "code",
   "execution_count": 111,
   "metadata": {},
   "outputs": [],
   "source": [
    "n_blocks_per_cond = 2\n",
    "n_trials_per_block = 10\n",
    "curr_expt = n_blocks_per_cond*EXPT_1_1_1\n",
    "np.random.shuffle(curr_expt)\n",
    "\n",
    "all_block_list = []\n",
    "for cond in curr_expt:\n",
    "    curr_block_list = choose_stim_with_curr_cond(stim_database, all_block_list, cond, n_trials_per_block)\n",
    "    all_block_list.append(curr_block_list)"
   ]
  },
  {
   "cell_type": "markdown",
   "metadata": {},
   "source": [
    "### Expt 1\n",
    "* Symmetric moving target and masker, EM and IM (0.1, 0.5, 4, 8)\n",
    "* Static target, moving masker, EM and IM (0.1, 0.5, 4, 8)\n",
    "* Moving target, static masker, EM and IM (0.1, 0.5, 4, 8)\n",
    "\n",
    "### Expt 2\n",
    "* Moving at different rates, EM and IM ((0.1, 4), (4, 0.1))\n",
    "* Predictability???"
   ]
  },
  {
   "cell_type": "code",
   "execution_count": null,
   "metadata": {},
   "outputs": [],
   "source": [
    "subject_ID = \"AYC\"\n",
    "task_type = \"SIM\"\n",
    "n_srcs = 3\n",
    "conditions = [\"co-located\", \"plus_minus_90\", 0.5, 2, 4] # alt rate\n",
    "stim_database = pd.read_csv(STIM_DIR/\"stimulus_database.csv\")\n",
    "\n",
    "# Check that the specified conditions are in the stimulus database\n",
    "validate_parameters(stim_database, task_type, n_srcs, conditions)\n",
    "\n",
    "# Blocking parameters\n",
    "randomize_within_block = True\n",
    "n_blocks = 1                         # if randomized within block\n",
    "n_trials_per_block_per_condition = 5 # if randomized within block\n",
    "n_trials_per_block = None      # if NOT randomized within block\n",
    "n_blocks_per_condition = None  # if NOT randomized within block\n",
    "run_stim_order = set_stim_order(stim_database, task_type, n_srcs, conditions,\n",
    "                                n_blocks,\n",
    "                                n_trials_per_block_per_condition,\n",
    "                                n_trials_per_block,\n",
    "                                n_blocks_per_condition,\n",
    "                                randomize_within_block)"
   ]
  }
 ],
 "metadata": {
  "kernelspec": {
   "display_name": "Python 3",
   "language": "python",
   "name": "python3"
  },
  "language_info": {
   "codemirror_mode": {
    "name": "ipython",
    "version": 3
   },
   "file_extension": ".py",
   "mimetype": "text/x-python",
   "name": "python",
   "nbconvert_exporter": "python",
   "pygments_lexer": "ipython3",
   "version": "3.6.12"
  }
 },
 "nbformat": 4,
 "nbformat_minor": 4
}
