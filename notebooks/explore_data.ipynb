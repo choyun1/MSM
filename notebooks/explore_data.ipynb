{
 "cells": [
  {
   "cell_type": "code",
   "execution_count": null,
   "metadata": {},
   "outputs": [],
   "source": [
    "import sys\n",
    "import numpy as np\n",
    "import pandas as pd\n",
    "import matplotlib.pyplot as plt\n",
    "from matplotlib.lines import Line2D\n",
    "from matplotlib.patches import Patch\n",
    "from matplotlib.ticker import FormatStrFormatter\n",
    "import seaborn as sns\n",
    "sns.set_theme(context=\"poster\", font_scale=1)\n",
    "\n",
    "from pathlib import Path\n",
    "\n",
    "sys.path.append(\"/home/acho/Sync/KiddLab/MSM/src\")\n",
    "from utils.stim_tools import *\n",
    "\n",
    "# sys.path.append(\"/home/acho/Sync/Python/sigtools\")\n",
    "# from sigtools.representations import *\n",
    "# from sigtools.sounds import *\n",
    "# from sigtools.processing import *\n",
    "# from sigtools.spatialization import *"
   ]
  },
  {
   "cell_type": "code",
   "execution_count": null,
   "metadata": {},
   "outputs": [],
   "source": [
    "# plt.rcParams[\"font.family\"] = \"serif\"\n",
    "plt.rcParams[\"font.serif\"] = \"Times New Roman\""
   ]
  },
  {
   "cell_type": "code",
   "execution_count": null,
   "metadata": {
    "scrolled": false
   },
   "outputs": [],
   "source": [
    "run_figsize = (16, 12)\n",
    "n_runs_to_load = 1\n",
    "n_trials_per_block = 8\n",
    "n_words_per_trial = 4\n",
    "chance_level = 1/8\n",
    "\n",
    "marker_symbols = [\"o\", \"v\", \"^\", \"d\", \"*\"]\n",
    "subjects = [\"ayc\"]\n",
    "legend_elements = []\n",
    "for i in range(n_runs_to_load):\n",
    "    legend_elements = [Line2D([], [], linestyle=\"\", marker=marker_symbols[i], markeredgewidth=3, markeredgecolor=\"k\", markerfacecolor=\"w\", markersize=18, label=subjects[i])]\n",
    "legend_elements.append(Patch(facecolor=\"b\", edgecolor=\"b\", label=r\"$\\pm 90^{\\circ}$\"),)\n",
    "legend_elements.append(Patch(facecolor=\"r\", edgecolor=\"r\", label=r\"$0^{\\circ}$\"))\n",
    "legend_elements.append(Line2D([], [], color=\"k\", linestyle=\":\", label=\"chance\"))\n",
    "\n",
    "all_run_nums = range(n_runs_to_load)\n",
    "fig, ax = plt.subplots(1, 1, figsize=run_figsize)\n",
    "for run_num in all_run_nums:\n",
    "    run_file_name = \"RUN_\" + str(run_num).zfill(3) + \".csv\"\n",
    "    stim_data = pd.read_csv(STIM_DIR/\"stimulus_database.csv\")\n",
    "    run_data = pd.read_csv(DATA_DIR/run_file_name)\n",
    "    run_stim = stim_data.loc[run_data.stimulus_ID].reset_index()\n",
    "    run_stim = run_stim.drop(labels=[\"index\", \"stim_type\"], axis=1)\n",
    "    run_data = run_data.join(run_stim)\n",
    "    run_data = run_data.drop(labels=[\"run_num\", \"subject_ID\", \"task_type\"], axis=1)\n",
    "\n",
    "    n_blocks = run_data.block_num.max()\n",
    "    n_max_correct = n_trials_per_block*n_words_per_trial\n",
    "#     n_max_correct = n_blocks*n_trials_per_block*n_words_per_trial\n",
    "\n",
    "    # Group data\n",
    "    run_rate_grouped = run_data.groupby(by=\"target_alt_rate\")\n",
    "    rates = list(run_rate_grouped.indices.keys())[1:]\n",
    "    correct   = run_rate_grouped.sum()[\"correct\"].values[1:]\n",
    "    # either ear\n",
    "#     antipodal = run_data[(run_data[\"target_alt_rate\"] == 0) & \\\n",
    "#                          (run_data[\"target_init_position\"] != 0)][\"correct\"].sum()\n",
    "    # co-located\n",
    "    colocated = run_data[(run_data[\"target_alt_rate\"] == 0) & \\\n",
    "                         (run_data[\"target_init_position\"] == 0)][\"correct\"].sum()\n",
    "\n",
    "    # Plot\n",
    "#     ax.plot(rates[ 0] - 1, antipodal/n_max_correct, \"b\" + marker_symbols[run_num], markersize=18)\n",
    "    ax.plot(        rates,   correct/n_max_correct, \"k\" + marker_symbols[run_num] + \"-\", markersize=18)\n",
    "    ax.plot(rates[-1] + 1, colocated/n_max_correct, \"r\" + marker_symbols[run_num], markersize=18)\n",
    "ax.hlines(chance_level, rates[0] - 2*1.75, rates[-1] + 2*1.75, color=\"k\", linestyle=\":\")\n",
    "ax.set_title(\"Word by word identification performance\", fontsize=40)\n",
    "ax.set_xlabel(\"Oscillation rate [Hz]\\n(linear scale)\", fontsize=28)\n",
    "ax.set_ylabel(\"Percent correct\", fontsize=28)\n",
    "ax.set_xlim((rates[0] - 1.75, rates[-1] + 1.75))\n",
    "ax.set_ylim((0, 1))\n",
    "ax.set_xticks(rates)\n",
    "ax.set_xticklabels(rates, rotation=90, fontsize=20)\n",
    "ax.set_yticks(np.linspace(0, 1, 11, endpoint=True))\n",
    "ax.set_yticklabels(np.linspace(0, 1, 11, endpoint=True), fontsize=20)\n",
    "ax.xaxis.set_major_formatter(FormatStrFormatter(\"%.1f\"))\n",
    "ax.yaxis.set_major_formatter(FormatStrFormatter(\"%.1f\"))\n",
    "ax.grid(linestyle=\"-\")\n",
    "ax.legend(handles=legend_elements)\n",
    "# ax.grid(linestyle=\"--\", alpha=0.5)\n",
    "\n",
    "# plt.savefig(\"b.pdf\")\n",
    "plt.show()"
   ]
  }
 ],
 "metadata": {
  "kernelspec": {
   "display_name": "Python 3",
   "language": "python",
   "name": "python3"
  },
  "language_info": {
   "codemirror_mode": {
    "name": "ipython",
    "version": 3
   },
   "file_extension": ".py",
   "mimetype": "text/x-python",
   "name": "python",
   "nbconvert_exporter": "python",
   "pygments_lexer": "ipython3",
   "version": "3.6.12"
  }
 },
 "nbformat": 4,
 "nbformat_minor": 4
}
